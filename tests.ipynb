{
 "cells": [
  {
   "cell_type": "code",
   "execution_count": 1,
   "metadata": {},
   "outputs": [
    {
     "name": "stdout",
     "output_type": "stream",
     "text": [
      "The sum of 1.5 and 6.3 is 7.8\n"
     ]
    }
   ],
   "source": [
    "\n",
    "# This program adds two numbers\n",
    "\n",
    "num1 = 1.5\n",
    "num2 = 6.3\n",
    "\n",
    "# Add two numbers\n",
    "sum = float(num1) + float(num2)\n",
    "\n",
    "# Display the sum\n",
    "print('The sum of {0} and {1} is {2}'.format(num1, num2, sum))"
   ]
  },
  {
   "cell_type": "code",
   "execution_count": 2,
   "metadata": {},
   "outputs": [
    {
     "name": "stdout",
     "output_type": "stream",
     "text": [
      "Enter first number: 1\n",
      "Enter second number: 2\n",
      "The sum of 1 and 2 is 3.0\n"
     ]
    }
   ],
   "source": [
    "# Store input numbers\n",
    "num1 = input('Enter first number: ')\n",
    "num2 = input('Enter second number: ')\n",
    "\n",
    "# Add two numbers\n",
    "sum = float(num1) + float(num2)\n",
    "\n",
    "# Display the sum\n",
    "print('The sum of {0} and {1} is {2}'.format(num1, num2, sum))"
   ]
  },
  {
   "cell_type": "code",
   "execution_count": 3,
   "metadata": {},
   "outputs": [
    {
     "ename": "NameError",
     "evalue": "name 'uuid' is not defined",
     "output_type": "error",
     "traceback": [
      "\u001b[0;31m---------------------------------------------------------------------------\u001b[0m",
      "\u001b[0;31mNameError\u001b[0m                                 Traceback (most recent call last)",
      "\u001b[0;32m<ipython-input-3-cc450a878fe7>\u001b[0m in \u001b[0;36m<module>\u001b[0;34m\u001b[0m\n\u001b[0;32m----> 1\u001b[0;31m \u001b[0mprint\u001b[0m \u001b[0;34m(\u001b[0m\u001b[0mhex\u001b[0m\u001b[0;34m(\u001b[0m\u001b[0muuid\u001b[0m\u001b[0;34m.\u001b[0m\u001b[0mgetnode\u001b[0m\u001b[0;34m(\u001b[0m\u001b[0;34m)\u001b[0m\u001b[0;34m)\u001b[0m\u001b[0;34m)\u001b[0m\u001b[0;34m\u001b[0m\u001b[0m\n\u001b[0m",
      "\u001b[0;31mNameError\u001b[0m: name 'uuid' is not defined"
     ]
    }
   ],
   "source": [
    "print (hex(uuid.getnode())) "
   ]
  },
  {
   "cell_type": "code",
   "execution_count": 5,
   "metadata": {},
   "outputs": [
    {
     "name": "stdout",
     "output_type": "stream",
     "text": [
      "The MAC address in formatted way is : 94:c6:91:31:c7:5c\n"
     ]
    }
   ],
   "source": [
    "\n",
    "# Python 3 code to print MAC \n",
    "\n",
    "import uuid \n",
    " \n",
    "print (\"The MAC address in formatted way is : \", end=\"\") \n",
    "print (':'.join(['{:02x}'.format((uuid.getnode() >> ele) & 0xff) \n",
    "for ele in range(0,8*6,8)][::-1])) \n"
   ]
  },
  {
   "cell_type": "code",
   "execution_count": null,
   "metadata": {},
   "outputs": [],
   "source": []
  },
  {
   "cell_type": "code",
   "execution_count": 6,
   "metadata": {},
   "outputs": [],
   "source": [
    "\n",
    "# Python3 code to display hostname and \n",
    "\n",
    "import socket \n",
    " \n",
    "def get_Host_name_IP(): \n",
    "    try: \n",
    "        host_name = socket.gethostname() \n",
    "        host_ip = socket.gethostbyname(host_name) \n",
    "        print(\"Hostname :  \",host_name) \n",
    "        print(\"IP : \",host_ip) \n",
    "    except: \n",
    "        print(\"Unable to get Hostname and IP\") \n"
   ]
  },
  {
   "cell_type": "code",
   "execution_count": 7,
   "metadata": {},
   "outputs": [
    {
     "name": "stdout",
     "output_type": "stream",
     "text": [
      "Hostname :   master\n",
      "IP :  192.168.7.131\n"
     ]
    }
   ],
   "source": [
    "get_Host_name_IP()\n"
   ]
  },
  {
   "cell_type": "code",
   "execution_count": 13,
   "metadata": {},
   "outputs": [],
   "source": [
    "import socket\n",
    "REMOTE_SERVER = \"www.google.com\"\n",
    "def is_connected(hostname):\n",
    "  try:\n",
    "    # see if we can resolve the host name -- tells us if there is\n",
    "    # a DNS listening\n",
    "    host = socket.gethostbyname(hostname)\n",
    "    # connect to the host -- tells us if the host is actually\n",
    "    # reachable\n",
    "    s = socket.create_connection((host, 80), 2)\n",
    "    return True\n",
    "  except:\n",
    "     pass\n",
    "  return False\n"
   ]
  },
  {
   "cell_type": "code",
   "execution_count": 14,
   "metadata": {},
   "outputs": [
    {
     "ename": "NameError",
     "evalue": "name 'master' is not defined",
     "output_type": "error",
     "traceback": [
      "\u001b[0;31m---------------------------------------------------------------------------\u001b[0m",
      "\u001b[0;31mNameError\u001b[0m                                 Traceback (most recent call last)",
      "\u001b[0;32m<ipython-input-14-f0830a45eb52>\u001b[0m in \u001b[0;36m<module>\u001b[0;34m\u001b[0m\n\u001b[0;32m----> 1\u001b[0;31m \u001b[0mis_connected\u001b[0m\u001b[0;34m(\u001b[0m\u001b[0mmaster\u001b[0m\u001b[0;34m)\u001b[0m\u001b[0;34m\u001b[0m\u001b[0m\n\u001b[0m",
      "\u001b[0;31mNameError\u001b[0m: name 'master' is not defined"
     ]
    }
   ],
   "source": [
    "is_connected(master)\n"
   ]
  },
  {
   "cell_type": "code",
   "execution_count": 20,
   "metadata": {},
   "outputs": [
    {
     "ename": "SyntaxError",
     "evalue": "invalid syntax (<ipython-input-20-a1ca6be3bb4d>, line 2)",
     "output_type": "error",
     "traceback": [
      "\u001b[0;36m  File \u001b[0;32m\"<ipython-input-20-a1ca6be3bb4d>\"\u001b[0;36m, line \u001b[0;32m2\u001b[0m\n\u001b[0;31m    def internet(host=\"8.8.8.8\", port=53, timeout=3)\u001b[0m\n\u001b[0m                                                    ^\u001b[0m\n\u001b[0;31mSyntaxError\u001b[0m\u001b[0;31m:\u001b[0m invalid syntax\n"
     ]
    }
   ],
   "source": [
    "import socket\n",
    "def internet(host=\"8.8.8.8\", port=53, timeout=3)\n",
    "    \"\"\"\n",
    "   Host: 8.8.8.8 (google-public-dns-a.google.com)\n",
    "   OpenPort: 53/tcp\n",
    "   Service: domain (DNS/TCP)\n",
    "   \"\"\"\n",
    "    try:\n",
    "        socket.setdefaulttimeout(timeout)\n",
    "        socket.socket(socket.AF_INET, socket.SOCK_STREAM).connect((host, port))\n",
    "        return True\n",
    "    except Exception as ex:\n",
    "        print ex.message\n",
    "    return False\n",
    "internet()"
   ]
  },
  {
   "cell_type": "code",
   "execution_count": 25,
   "metadata": {},
   "outputs": [
    {
     "data": {
      "text/plain": [
       "True"
      ]
     },
     "execution_count": 25,
     "metadata": {},
     "output_type": "execute_result"
    }
   ],
   "source": [
    "import requests\n",
    "\n",
    "def connected_to_internet(url='http://www.google.com/', timeout=5):\n",
    "    try:\n",
    "        _ = requests.get(url, timeout=timeout)\n",
    "        return True\n",
    "    except requests.ConnectionError:\n",
    "        print(\"No internet connection available.\")\n",
    "    return False\n",
    "connected_to_internet()"
   ]
  },
  {
   "cell_type": "code",
   "execution_count": 22,
   "metadata": {},
   "outputs": [
    {
     "data": {
      "text/plain": [
       "True"
      ]
     },
     "execution_count": 22,
     "metadata": {},
     "output_type": "execute_result"
    }
   ],
   "source": [
    "\n"
   ]
  },
  {
   "cell_type": "code",
   "execution_count": 52,
   "metadata": {},
   "outputs": [
    {
     "name": "stdout",
     "output_type": "stream",
     "text": [
      "Internet connection available.\n",
      "Hostname :   master\n",
      "IP :  192.168.7.131\n",
      "The MAC address 0x94c69131c75c\n",
      "The MAC address in formatted and less complex way is : 94:c6:91:31:c7:5c\n"
     ]
    }
   ],
   "source": [
    "\n",
    "\n",
    "\n",
    "import socket \n",
    " \n",
    "\n",
    "def web_site_online(url='http://www.google.com/', timeout=5):\n",
    "    try:\n",
    "        req = requests.get(url, timeout=timeout)\n",
    "        # HTTP errors are not raised by default, this statement does that\n",
    "        req.raise_for_status()\n",
    "        print(\"Internet connection available.\")\n",
    "        return True\n",
    "    except requests.HTTPError as e:\n",
    "        print(\"Checking internet connection failed, status code {0}.\".format(\n",
    "        e.response.status_code))\n",
    "    except requests.ConnectionError:\n",
    "        print(\"No internet connection available.\")\n",
    "    return False\n",
    "\n",
    "        \n",
    "web_site_online()\n",
    "\n",
    "def get_Host_name_IP(): \n",
    "    try: \n",
    "        host_name = socket.gethostname() \n",
    "        host_ip = socket.gethostbyname(host_name) \n",
    "        print(\"Hostname :  \",host_name) \n",
    "        print(\"IP : \",host_ip) \n",
    "    except: \n",
    "        print(\"Unable to get Hostname and IP\")\n",
    "get_Host_name_IP()\n",
    "\n",
    "import re, uuid \n",
    "  \n",
    "# joins elements of getnode() after each 2 digits. \n",
    "# using regex expression \n",
    "print (\"The MAC address\", hex(uuid.getnode())) \n",
    "print (\"The MAC address in formatted and less complex way is : \", end=\"\") \n",
    "print (':'.join(re.findall('..', '%012x' % uuid.getnode()))) \n",
    "\n",
    "\n"
   ]
  },
  {
   "cell_type": "code",
   "execution_count": 53,
   "metadata": {},
   "outputs": [
    {
     "name": "stdout",
     "output_type": "stream",
     "text": [
      "0x94c69131c75c\n"
     ]
    }
   ],
   "source": [
    "import uuid \n",
    "  \n",
    "# printing the value of unique MAC \n",
    "# address using uuid and getnode() function  \n",
    "print (hex(uuid.getnode())) "
   ]
  },
  {
   "cell_type": "code",
   "execution_count": 57,
   "metadata": {},
   "outputs": [
    {
     "ename": "ImportError",
     "evalue": "No module named 'Popen'",
     "output_type": "error",
     "traceback": [
      "\u001b[0;31m---------------------------------------------------------------------------\u001b[0m",
      "\u001b[0;31mImportError\u001b[0m                               Traceback (most recent call last)",
      "\u001b[0;32m<ipython-input-57-9ca4ff82860b>\u001b[0m in \u001b[0;36m<module>\u001b[0;34m\u001b[0m\n\u001b[0;32m----> 1\u001b[0;31m \u001b[0;32mimport\u001b[0m \u001b[0mPopen\u001b[0m\u001b[0;34m,\u001b[0m \u001b[0mPIPE\u001b[0m\u001b[0;34m\u001b[0m\u001b[0m\n\u001b[0m\u001b[1;32m      2\u001b[0m \u001b[0;32mimport\u001b[0m \u001b[0mre\u001b[0m\u001b[0;34m\u001b[0m\u001b[0m\n\u001b[1;32m      3\u001b[0m \u001b[0mIP\u001b[0m \u001b[0;34m=\u001b[0m \u001b[0;34m\"192.168.10.111\"\u001b[0m\u001b[0;34m\u001b[0m\u001b[0m\n\u001b[1;32m      4\u001b[0m \u001b[0mPopen\u001b[0m\u001b[0;34m(\u001b[0m\u001b[0;34m[\u001b[0m\u001b[0;34m\"ping\"\u001b[0m\u001b[0;34m,\u001b[0m \u001b[0;34m\"-c 1\"\u001b[0m\u001b[0;34m,\u001b[0m \u001b[0mIP\u001b[0m\u001b[0;34m]\u001b[0m\u001b[0;34m,\u001b[0m \u001b[0mstdout\u001b[0m \u001b[0;34m=\u001b[0m \u001b[0mPIPE\u001b[0m\u001b[0;34m)\u001b[0m\u001b[0;34m\u001b[0m\u001b[0m\n\u001b[1;32m      5\u001b[0m \u001b[0mpid\u001b[0m \u001b[0;34m=\u001b[0m \u001b[0mPopen\u001b[0m\u001b[0;34m(\u001b[0m\u001b[0;34m[\u001b[0m\u001b[0;34m\"arp\"\u001b[0m\u001b[0;34m,\u001b[0m \u001b[0;34m\"-n\"\u001b[0m\u001b[0;34m,\u001b[0m \u001b[0mIP\u001b[0m\u001b[0;34m]\u001b[0m\u001b[0;34m,\u001b[0m \u001b[0mstdout\u001b[0m \u001b[0;34m=\u001b[0m \u001b[0mPIPE\u001b[0m\u001b[0;34m)\u001b[0m\u001b[0;34m\u001b[0m\u001b[0m\n",
      "\u001b[0;31mImportError\u001b[0m: No module named 'Popen'"
     ]
    }
   ],
   "source": []
  },
  {
   "cell_type": "code",
   "execution_count": 61,
   "metadata": {},
   "outputs": [
    {
     "ename": "TypeError",
     "evalue": "cannot use a string pattern on a bytes-like object",
     "output_type": "error",
     "traceback": [
      "\u001b[0;31m---------------------------------------------------------------------------\u001b[0m",
      "\u001b[0;31mTypeError\u001b[0m                                 Traceback (most recent call last)",
      "\u001b[0;32m<ipython-input-61-4632e7e5bcc4>\u001b[0m in \u001b[0;36m<module>\u001b[0;34m\u001b[0m\n\u001b[1;32m      6\u001b[0m \u001b[0mpid\u001b[0m \u001b[0;34m=\u001b[0m \u001b[0mPopen\u001b[0m\u001b[0;34m(\u001b[0m\u001b[0;34m[\u001b[0m\u001b[0;34m\"arp\"\u001b[0m\u001b[0;34m,\u001b[0m \u001b[0;34m\"-n\"\u001b[0m\u001b[0;34m,\u001b[0m \u001b[0mIP\u001b[0m\u001b[0;34m]\u001b[0m\u001b[0;34m,\u001b[0m \u001b[0mstdout\u001b[0m \u001b[0;34m=\u001b[0m \u001b[0mPIPE\u001b[0m\u001b[0;34m)\u001b[0m\u001b[0;34m\u001b[0m\u001b[0m\n\u001b[1;32m      7\u001b[0m \u001b[0ms\u001b[0m \u001b[0;34m=\u001b[0m \u001b[0mpid\u001b[0m\u001b[0;34m.\u001b[0m\u001b[0mcommunicate\u001b[0m\u001b[0;34m(\u001b[0m\u001b[0;34m)\u001b[0m\u001b[0;34m[\u001b[0m\u001b[0;36m0\u001b[0m\u001b[0;34m]\u001b[0m\u001b[0;34m\u001b[0m\u001b[0m\n\u001b[0;32m----> 8\u001b[0;31m \u001b[0mmac\u001b[0m \u001b[0;34m=\u001b[0m \u001b[0mre\u001b[0m\u001b[0;34m.\u001b[0m\u001b[0msearch\u001b[0m\u001b[0;34m(\u001b[0m\u001b[0;34mr\"(([a-f\\d]{1,2}\\:){5}[a-f\\d]{1,2})\"\u001b[0m\u001b[0;34m,\u001b[0m \u001b[0ms\u001b[0m\u001b[0;34m)\u001b[0m\u001b[0;34m.\u001b[0m\u001b[0mgroups\u001b[0m\u001b[0;34m(\u001b[0m\u001b[0;34m)\u001b[0m\u001b[0;34m[\u001b[0m\u001b[0;36m0\u001b[0m\u001b[0;34m]\u001b[0m\u001b[0;34m\u001b[0m\u001b[0m\n\u001b[0m\u001b[1;32m      9\u001b[0m \u001b[0;34m\u001b[0m\u001b[0m\n\u001b[1;32m     10\u001b[0m \u001b[0;34m\u001b[0m\u001b[0m\n",
      "\u001b[0;32m/usr/lib/python3.5/re.py\u001b[0m in \u001b[0;36msearch\u001b[0;34m(pattern, string, flags)\u001b[0m\n\u001b[1;32m    171\u001b[0m     \"\"\"Scan through string looking for a match to the pattern, returning\n\u001b[1;32m    172\u001b[0m     a match object, or None if no match was found.\"\"\"\n\u001b[0;32m--> 173\u001b[0;31m     \u001b[0;32mreturn\u001b[0m \u001b[0m_compile\u001b[0m\u001b[0;34m(\u001b[0m\u001b[0mpattern\u001b[0m\u001b[0;34m,\u001b[0m \u001b[0mflags\u001b[0m\u001b[0;34m)\u001b[0m\u001b[0;34m.\u001b[0m\u001b[0msearch\u001b[0m\u001b[0;34m(\u001b[0m\u001b[0mstring\u001b[0m\u001b[0;34m)\u001b[0m\u001b[0;34m\u001b[0m\u001b[0m\n\u001b[0m\u001b[1;32m    174\u001b[0m \u001b[0;34m\u001b[0m\u001b[0m\n\u001b[1;32m    175\u001b[0m \u001b[0;32mdef\u001b[0m \u001b[0msub\u001b[0m\u001b[0;34m(\u001b[0m\u001b[0mpattern\u001b[0m\u001b[0;34m,\u001b[0m \u001b[0mrepl\u001b[0m\u001b[0;34m,\u001b[0m \u001b[0mstring\u001b[0m\u001b[0;34m,\u001b[0m \u001b[0mcount\u001b[0m\u001b[0;34m=\u001b[0m\u001b[0;36m0\u001b[0m\u001b[0;34m,\u001b[0m \u001b[0mflags\u001b[0m\u001b[0;34m=\u001b[0m\u001b[0;36m0\u001b[0m\u001b[0;34m)\u001b[0m\u001b[0;34m:\u001b[0m\u001b[0;34m\u001b[0m\u001b[0m\n",
      "\u001b[0;31mTypeError\u001b[0m: cannot use a string pattern on a bytes-like object"
     ]
    }
   ],
   "source": [
    "\n",
    "from subprocess import Popen, PIPE\n",
    "import re\n",
    "IP = \"192.168.10.111\"\n",
    "Popen([\"ping\", \"-c 1\", IP], stdout = PIPE)\n",
    "pid = Popen([\"arp\", \"-n\", IP], stdout = PIPE)\n",
    "s = pid.communicate()[0]\n",
    "mac = re.search(r\"(([a-f\\d]{1,2}\\:){5}[a-f\\d]{1,2})\", s).groups()[0]\n",
    "print \"%s--> %s\" % (IP, mac)\n",
    "\n"
   ]
  },
  {
   "cell_type": "code",
   "execution_count": null,
   "metadata": {},
   "outputs": [],
   "source": []
  }
 ],
 "metadata": {
  "kernelspec": {
   "display_name": "Python 3",
   "language": "python",
   "name": "python3"
  },
  "language_info": {
   "codemirror_mode": {
    "name": "ipython",
    "version": 3
   },
   "file_extension": ".py",
   "mimetype": "text/x-python",
   "name": "python",
   "nbconvert_exporter": "python",
   "pygments_lexer": "ipython3",
   "version": "3.5.2"
  }
 },
 "nbformat": 4,
 "nbformat_minor": 2
}
