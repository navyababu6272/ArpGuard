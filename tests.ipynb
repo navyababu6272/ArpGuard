{
 "cells": [
  {
   "cell_type": "code",
   "execution_count": 1,
   "metadata": {},
   "outputs": [
    {
     "name": "stdout",
     "output_type": "stream",
     "text": [
      "The sum of 1.5 and 6.3 is 7.8\n"
     ]
    }
   ],
   "source": [
    "\n",
    "# This program adds two numbers\n",
    "\n",
    "num1 = 1.5\n",
    "num2 = 6.3\n",
    "\n",
    "# Add two numbers\n",
    "sum = float(num1) + float(num2)\n",
    "\n",
    "# Display the sum\n",
    "print('The sum of {0} and {1} is {2}'.format(num1, num2, sum))"
   ]
  },
  {
   "cell_type": "code",
   "execution_count": 2,
   "metadata": {},
   "outputs": [
    {
     "name": "stdout",
     "output_type": "stream",
     "text": [
      "Enter first number: 1\n",
      "Enter second number: 2\n",
      "The sum of 1 and 2 is 3.0\n"
     ]
    }
   ],
   "source": [
    "# Store input numbers\n",
    "num1 = input('Enter first number: ')\n",
    "num2 = input('Enter second number: ')\n",
    "\n",
    "# Add two numbers\n",
    "sum = float(num1) + float(num2)\n",
    "\n",
    "# Display the sum\n",
    "print('The sum of {0} and {1} is {2}'.format(num1, num2, sum))"
   ]
  },
  {
   "cell_type": "code",
   "execution_count": 3,
   "metadata": {},
   "outputs": [
    {
     "ename": "NameError",
     "evalue": "name 'uuid' is not defined",
     "output_type": "error",
     "traceback": [
      "\u001b[0;31m---------------------------------------------------------------------------\u001b[0m",
      "\u001b[0;31mNameError\u001b[0m                                 Traceback (most recent call last)",
      "\u001b[0;32m<ipython-input-3-cc450a878fe7>\u001b[0m in \u001b[0;36m<module>\u001b[0;34m\u001b[0m\n\u001b[0;32m----> 1\u001b[0;31m \u001b[0mprint\u001b[0m \u001b[0;34m(\u001b[0m\u001b[0mhex\u001b[0m\u001b[0;34m(\u001b[0m\u001b[0muuid\u001b[0m\u001b[0;34m.\u001b[0m\u001b[0mgetnode\u001b[0m\u001b[0;34m(\u001b[0m\u001b[0;34m)\u001b[0m\u001b[0;34m)\u001b[0m\u001b[0;34m)\u001b[0m\u001b[0;34m\u001b[0m\u001b[0m\n\u001b[0m",
      "\u001b[0;31mNameError\u001b[0m: name 'uuid' is not defined"
     ]
    }
   ],
   "source": [
    "print (hex(uuid.getnode())) "
   ]
  },
  {
   "cell_type": "code",
   "execution_count": 5,
   "metadata": {},
   "outputs": [
    {
     "name": "stdout",
     "output_type": "stream",
     "text": [
      "The MAC address in formatted way is : 94:c6:91:31:c7:5c\n"
     ]
    }
   ],
   "source": [
    "\n",
    "# Python 3 code to print MAC \n",
    "\n",
    "import uuid \n",
    " \n",
    "print (\"The MAC address in formatted way is : \", end=\"\") \n",
    "print (':'.join(['{:02x}'.format((uuid.getnode() >> ele) & 0xff) \n",
    "for ele in range(0,8*6,8)][::-1])) \n"
   ]
  },
  {
   "cell_type": "code",
   "execution_count": null,
   "metadata": {},
   "outputs": [],
   "source": []
  },
  {
   "cell_type": "code",
   "execution_count": 6,
   "metadata": {},
   "outputs": [],
   "source": [
    "\n",
    "# Python3 code to display hostname and \n",
    "\n",
    "import socket \n",
    " \n",
    "def get_Host_name_IP(): \n",
    "    try: \n",
    "        host_name = socket.gethostname() \n",
    "        host_ip = socket.gethostbyname(host_name) \n",
    "        print(\"Hostname :  \",host_name) \n",
    "        print(\"IP : \",host_ip) \n",
    "    except: \n",
    "        print(\"Unable to get Hostname and IP\") \n"
   ]
  },
  {
   "cell_type": "code",
   "execution_count": 7,
   "metadata": {},
   "outputs": [
    {
     "name": "stdout",
     "output_type": "stream",
     "text": [
      "Hostname :   master\n",
      "IP :  192.168.7.131\n"
     ]
    }
   ],
   "source": [
    "get_Host_name_IP()\n"
   ]
  },
  {
   "cell_type": "code",
   "execution_count": 13,
   "metadata": {},
   "outputs": [],
   "source": [
    "import socket\n",
    "REMOTE_SERVER = \"www.google.com\"\n",
    "def is_connected(hostname):\n",
    "  try:\n",
    "    # see if we can resolve the host name -- tells us if there is\n",
    "    # a DNS listening\n",
    "    host = socket.gethostbyname(hostname)\n",
    "    # connect to the host -- tells us if the host is actually\n",
    "    # reachable\n",
    "    s = socket.create_connection((host, 80), 2)\n",
    "    return True\n",
    "  except:\n",
    "     pass\n",
    "  return False\n"
   ]
  },
  {
   "cell_type": "code",
   "execution_count": 14,
   "metadata": {},
   "outputs": [
    {
     "ename": "NameError",
     "evalue": "name 'master' is not defined",
     "output_type": "error",
     "traceback": [
      "\u001b[0;31m---------------------------------------------------------------------------\u001b[0m",
      "\u001b[0;31mNameError\u001b[0m                                 Traceback (most recent call last)",
      "\u001b[0;32m<ipython-input-14-f0830a45eb52>\u001b[0m in \u001b[0;36m<module>\u001b[0;34m\u001b[0m\n\u001b[0;32m----> 1\u001b[0;31m \u001b[0mis_connected\u001b[0m\u001b[0;34m(\u001b[0m\u001b[0mmaster\u001b[0m\u001b[0;34m)\u001b[0m\u001b[0;34m\u001b[0m\u001b[0m\n\u001b[0m",
      "\u001b[0;31mNameError\u001b[0m: name 'master' is not defined"
     ]
    }
   ],
   "source": [
    "is_connected(master)\n"
   ]
  },
  {
   "cell_type": "code",
   "execution_count": 20,
   "metadata": {},
   "outputs": [
    {
     "ename": "SyntaxError",
     "evalue": "invalid syntax (<ipython-input-20-a1ca6be3bb4d>, line 2)",
     "output_type": "error",
     "traceback": [
      "\u001b[0;36m  File \u001b[0;32m\"<ipython-input-20-a1ca6be3bb4d>\"\u001b[0;36m, line \u001b[0;32m2\u001b[0m\n\u001b[0;31m    def internet(host=\"8.8.8.8\", port=53, timeout=3)\u001b[0m\n\u001b[0m                                                    ^\u001b[0m\n\u001b[0;31mSyntaxError\u001b[0m\u001b[0;31m:\u001b[0m invalid syntax\n"
     ]
    }
   ],
   "source": [
    "import socket\n",
    "def internet(host=\"8.8.8.8\", port=53, timeout=3)\n",
    "    \"\"\"\n",
    "   Host: 8.8.8.8 (google-public-dns-a.google.com)\n",
    "   OpenPort: 53/tcp\n",
    "   Service: domain (DNS/TCP)\n",
    "   \"\"\"\n",
    "    try:\n",
    "        socket.setdefaulttimeout(timeout)\n",
    "        socket.socket(socket.AF_INET, socket.SOCK_STREAM).connect((host, port))\n",
    "        return True\n",
    "    except Exception as ex:\n",
    "        print ex.message\n",
    "    return False\n",
    "internet()"
   ]
  },
  {
   "cell_type": "code",
   "execution_count": 25,
   "metadata": {},
   "outputs": [
    {
     "data": {
      "text/plain": [
       "True"
      ]
     },
     "execution_count": 25,
     "metadata": {},
     "output_type": "execute_result"
    }
   ],
   "source": [
    "import requests\n",
    "\n",
    "def connected_to_internet(url='http://www.google.com/', timeout=5):\n",
    "    try:\n",
    "        _ = requests.get(url, timeout=timeout)\n",
    "        return True\n",
    "    except requests.ConnectionError:\n",
    "        print(\"No internet connection available.\")\n",
    "    return False\n",
    "connected_to_internet()"
   ]
  },
  {
   "cell_type": "code",
   "execution_count": 22,
   "metadata": {},
   "outputs": [
    {
     "data": {
      "text/plain": [
       "True"
      ]
     },
     "execution_count": 22,
     "metadata": {},
     "output_type": "execute_result"
    }
   ],
   "source": [
    "\n"
   ]
  },
  {
   "cell_type": "code",
   "execution_count": 52,
   "metadata": {},
   "outputs": [
    {
     "name": "stdout",
     "output_type": "stream",
     "text": [
      "Internet connection available.\n",
      "Hostname :   master\n",
      "IP :  192.168.7.131\n",
      "The MAC address 0x94c69131c75c\n",
      "The MAC address in formatted and less complex way is : 94:c6:91:31:c7:5c\n"
     ]
    }
   ],
   "source": [
    "\n",
    "\n",
    "\n",
    "import socket \n",
    " \n",
    "\n",
    "def web_site_online(url='http://www.google.com/', timeout=5):\n",
    "    try:\n",
    "        req = requests.get(url, timeout=timeout)\n",
    "        # HTTP errors are not raised by default, this statement does that\n",
    "        req.raise_for_status()\n",
    "        print(\"Internet connection available.\")\n",
    "        return True\n",
    "    except requests.HTTPError as e:\n",
    "        print(\"Checking internet connection failed, status code {0}.\".format(\n",
    "        e.response.status_code))\n",
    "    except requests.ConnectionError:\n",
    "        print(\"No internet connection available.\")\n",
    "    return False\n",
    "\n",
    "        \n",
    "web_site_online()\n",
    "\n",
    "def get_Host_name_IP(): \n",
    "    try: \n",
    "        host_name = socket.gethostname() \n",
    "        host_ip = socket.gethostbyname(host_name) \n",
    "        print(\"Hostname :  \",host_name) \n",
    "        print(\"IP : \",host_ip) \n",
    "    except: \n",
    "        print(\"Unable to get Hostname and IP\")\n",
    "get_Host_name_IP()\n",
    "\n",
    "import re, uuid \n",
    "  \n",
    "# joins elements of getnode() after each 2 digits. \n",
    "# using regex expression \n",
    "print (\"The MAC address\", hex(uuid.getnode())) \n",
    "print (\"The MAC address in formatted and less complex way is : \", end=\"\") \n",
    "print (':'.join(re.findall('..', '%012x' % uuid.getnode()))) \n",
    "\n",
    "\n"
   ]
  },
  {
   "cell_type": "code",
   "execution_count": 53,
   "metadata": {},
   "outputs": [
    {
     "name": "stdout",
     "output_type": "stream",
     "text": [
      "0x94c69131c75c\n"
     ]
    }
   ],
   "source": [
    "import uuid \n",
    "  \n",
    "# printing the value of unique MAC \n",
    "# address using uuid and getnode() function  \n",
    "print (hex(uuid.getnode())) "
   ]
  },
  {
   "cell_type": "code",
   "execution_count": 57,
   "metadata": {},
   "outputs": [
    {
     "ename": "ImportError",
     "evalue": "No module named 'Popen'",
     "output_type": "error",
     "traceback": [
      "\u001b[0;31m---------------------------------------------------------------------------\u001b[0m",
      "\u001b[0;31mImportError\u001b[0m                               Traceback (most recent call last)",
      "\u001b[0;32m<ipython-input-57-9ca4ff82860b>\u001b[0m in \u001b[0;36m<module>\u001b[0;34m\u001b[0m\n\u001b[0;32m----> 1\u001b[0;31m \u001b[0;32mimport\u001b[0m \u001b[0mPopen\u001b[0m\u001b[0;34m,\u001b[0m \u001b[0mPIPE\u001b[0m\u001b[0;34m\u001b[0m\u001b[0m\n\u001b[0m\u001b[1;32m      2\u001b[0m \u001b[0;32mimport\u001b[0m \u001b[0mre\u001b[0m\u001b[0;34m\u001b[0m\u001b[0m\n\u001b[1;32m      3\u001b[0m \u001b[0mIP\u001b[0m \u001b[0;34m=\u001b[0m \u001b[0;34m\"192.168.10.111\"\u001b[0m\u001b[0;34m\u001b[0m\u001b[0m\n\u001b[1;32m      4\u001b[0m \u001b[0mPopen\u001b[0m\u001b[0;34m(\u001b[0m\u001b[0;34m[\u001b[0m\u001b[0;34m\"ping\"\u001b[0m\u001b[0;34m,\u001b[0m \u001b[0;34m\"-c 1\"\u001b[0m\u001b[0;34m,\u001b[0m \u001b[0mIP\u001b[0m\u001b[0;34m]\u001b[0m\u001b[0;34m,\u001b[0m \u001b[0mstdout\u001b[0m \u001b[0;34m=\u001b[0m \u001b[0mPIPE\u001b[0m\u001b[0;34m)\u001b[0m\u001b[0;34m\u001b[0m\u001b[0m\n\u001b[1;32m      5\u001b[0m \u001b[0mpid\u001b[0m \u001b[0;34m=\u001b[0m \u001b[0mPopen\u001b[0m\u001b[0;34m(\u001b[0m\u001b[0;34m[\u001b[0m\u001b[0;34m\"arp\"\u001b[0m\u001b[0;34m,\u001b[0m \u001b[0;34m\"-n\"\u001b[0m\u001b[0;34m,\u001b[0m \u001b[0mIP\u001b[0m\u001b[0;34m]\u001b[0m\u001b[0;34m,\u001b[0m \u001b[0mstdout\u001b[0m \u001b[0;34m=\u001b[0m \u001b[0mPIPE\u001b[0m\u001b[0;34m)\u001b[0m\u001b[0;34m\u001b[0m\u001b[0m\n",
      "\u001b[0;31mImportError\u001b[0m: No module named 'Popen'"
     ]
    }
   ],
   "source": []
  },
  {
   "cell_type": "code",
   "execution_count": 61,
   "metadata": {},
   "outputs": [
    {
     "ename": "TypeError",
     "evalue": "cannot use a string pattern on a bytes-like object",
     "output_type": "error",
     "traceback": [
      "\u001b[0;31m---------------------------------------------------------------------------\u001b[0m",
      "\u001b[0;31mTypeError\u001b[0m                                 Traceback (most recent call last)",
      "\u001b[0;32m<ipython-input-61-4632e7e5bcc4>\u001b[0m in \u001b[0;36m<module>\u001b[0;34m\u001b[0m\n\u001b[1;32m      6\u001b[0m \u001b[0mpid\u001b[0m \u001b[0;34m=\u001b[0m \u001b[0mPopen\u001b[0m\u001b[0;34m(\u001b[0m\u001b[0;34m[\u001b[0m\u001b[0;34m\"arp\"\u001b[0m\u001b[0;34m,\u001b[0m \u001b[0;34m\"-n\"\u001b[0m\u001b[0;34m,\u001b[0m \u001b[0mIP\u001b[0m\u001b[0;34m]\u001b[0m\u001b[0;34m,\u001b[0m \u001b[0mstdout\u001b[0m \u001b[0;34m=\u001b[0m \u001b[0mPIPE\u001b[0m\u001b[0;34m)\u001b[0m\u001b[0;34m\u001b[0m\u001b[0m\n\u001b[1;32m      7\u001b[0m \u001b[0ms\u001b[0m \u001b[0;34m=\u001b[0m \u001b[0mpid\u001b[0m\u001b[0;34m.\u001b[0m\u001b[0mcommunicate\u001b[0m\u001b[0;34m(\u001b[0m\u001b[0;34m)\u001b[0m\u001b[0;34m[\u001b[0m\u001b[0;36m0\u001b[0m\u001b[0;34m]\u001b[0m\u001b[0;34m\u001b[0m\u001b[0m\n\u001b[0;32m----> 8\u001b[0;31m \u001b[0mmac\u001b[0m \u001b[0;34m=\u001b[0m \u001b[0mre\u001b[0m\u001b[0;34m.\u001b[0m\u001b[0msearch\u001b[0m\u001b[0;34m(\u001b[0m\u001b[0;34mr\"(([a-f\\d]{1,2}\\:){5}[a-f\\d]{1,2})\"\u001b[0m\u001b[0;34m,\u001b[0m \u001b[0ms\u001b[0m\u001b[0;34m)\u001b[0m\u001b[0;34m.\u001b[0m\u001b[0mgroups\u001b[0m\u001b[0;34m(\u001b[0m\u001b[0;34m)\u001b[0m\u001b[0;34m[\u001b[0m\u001b[0;36m0\u001b[0m\u001b[0;34m]\u001b[0m\u001b[0;34m\u001b[0m\u001b[0m\n\u001b[0m\u001b[1;32m      9\u001b[0m \u001b[0;34m\u001b[0m\u001b[0m\n\u001b[1;32m     10\u001b[0m \u001b[0;34m\u001b[0m\u001b[0m\n",
      "\u001b[0;32m/usr/lib/python3.5/re.py\u001b[0m in \u001b[0;36msearch\u001b[0;34m(pattern, string, flags)\u001b[0m\n\u001b[1;32m    171\u001b[0m     \"\"\"Scan through string looking for a match to the pattern, returning\n\u001b[1;32m    172\u001b[0m     a match object, or None if no match was found.\"\"\"\n\u001b[0;32m--> 173\u001b[0;31m     \u001b[0;32mreturn\u001b[0m \u001b[0m_compile\u001b[0m\u001b[0;34m(\u001b[0m\u001b[0mpattern\u001b[0m\u001b[0;34m,\u001b[0m \u001b[0mflags\u001b[0m\u001b[0;34m)\u001b[0m\u001b[0;34m.\u001b[0m\u001b[0msearch\u001b[0m\u001b[0;34m(\u001b[0m\u001b[0mstring\u001b[0m\u001b[0;34m)\u001b[0m\u001b[0;34m\u001b[0m\u001b[0m\n\u001b[0m\u001b[1;32m    174\u001b[0m \u001b[0;34m\u001b[0m\u001b[0m\n\u001b[1;32m    175\u001b[0m \u001b[0;32mdef\u001b[0m \u001b[0msub\u001b[0m\u001b[0;34m(\u001b[0m\u001b[0mpattern\u001b[0m\u001b[0;34m,\u001b[0m \u001b[0mrepl\u001b[0m\u001b[0;34m,\u001b[0m \u001b[0mstring\u001b[0m\u001b[0;34m,\u001b[0m \u001b[0mcount\u001b[0m\u001b[0;34m=\u001b[0m\u001b[0;36m0\u001b[0m\u001b[0;34m,\u001b[0m \u001b[0mflags\u001b[0m\u001b[0;34m=\u001b[0m\u001b[0;36m0\u001b[0m\u001b[0;34m)\u001b[0m\u001b[0;34m:\u001b[0m\u001b[0;34m\u001b[0m\u001b[0m\n",
      "\u001b[0;31mTypeError\u001b[0m: cannot use a string pattern on a bytes-like object"
     ]
    }
   ],
   "source": [
    "\n",
    "from subprocess import Popen, PIPE\n",
    "import re\n",
    "IP = \"192.168.10.111\"\n",
    "Popen([\"ping\", \"-c 1\", IP], stdout = PIPE)\n",
    "pid = Popen([\"arp\", \"-n\", IP], stdout = PIPE)\n",
    "s = pid.communicate()[0]\n",
    "mac = re.search(r\"(([a-f\\d]{1,2}\\:){5}[a-f\\d]{1,2})\", s).groups()[0]\n",
    "print \"%s--> %s\" % (IP, mac)\n",
    "\n"
   ]
  },
  {
   "cell_type": "code",
   "execution_count": 2,
   "metadata": {},
   "outputs": [
    {
     "ename": "SyntaxError",
     "evalue": "invalid character in identifier (<ipython-input-2-d71649b2c1a4>, line 11)",
     "output_type": "error",
     "traceback": [
      "\u001b[0;36m  File \u001b[0;32m\"<ipython-input-2-d71649b2c1a4>\"\u001b[0;36m, line \u001b[0;32m11\u001b[0m\n\u001b[0;31m    remote_ip = “192.168.7.131” # should match the instrument’s IP address\u001b[0m\n\u001b[0m                   ^\u001b[0m\n\u001b[0;31mSyntaxError\u001b[0m\u001b[0;31m:\u001b[0m invalid character in identifier\n"
     ]
    }
   ],
   "source": [
    "#!/usr/bin/env python\n",
    "#-*- coding:utf-8 –*-\n",
    "#—————————————————————————–\n",
    "# The short script is a example that open a socket, sends a query,\n",
    "# print the return message and closes the socket.\n",
    "#—————————————————————————–\n",
    "import socket # for sockets\n",
    "import sys # for exit\n",
    "import time # for sleep\n",
    "#—————————————————————————–\n",
    "remote_ip = “192.168.7.131” # should match the instrument’s IP address\n",
    "port = 5024 # the port number of the instrument service\n",
    "count = 0\n",
    "\n",
    "def SocketConnect():\n",
    "try:\n",
    "#create an AF_INET, STREAM socket (TCP)\n",
    "s = socket.socket(socket.AF_INET, socket.SOCK_STREAM)\n",
    "except socket.error:\n",
    "print (‘Failed to create socket.’)\n",
    "sys.exit();\n",
    "try:\n",
    "#Connect to remote server\n",
    "s.connect((remote_ip , port))\n",
    "info = s.recv(4096)\n",
    "print (info)\n",
    "except socket.error:\n",
    "print (‘failed to connect to ip ‘ + remote_ip)\n",
    "return s\n",
    "\n",
    "def SocketQuery(Sock, cmd):\n",
    "try :\n",
    "#Send cmd string\n",
    "Sock.sendall(cmd)\n",
    "time.sleep(1)\n",
    "except socket.error:\n",
    "#Send failed\n",
    "print (‘Send failed’)\n",
    "sys.exit()\n",
    "reply = Sock.recv(4096)\n",
    "return reply\n",
    "\n",
    "def SocketClose(Sock):\n",
    "#close the socket\n",
    "Sock.close()\n",
    "time.sleep(.300)\n",
    "\n",
    "def main():\n",
    "global remote_ip\n",
    "global port\n",
    "global count\n",
    "\n",
    "# Body: send the SCPI commands *IDN? 10 times and print the return message\n",
    "s = SocketConnect()\n",
    "for i in range(10):\n",
    "qStr = SocketQuery(s, b’*IDN?’)\n",
    "print (str(count) + “:: ” + str(qStr))\n",
    "count = count + 1\n",
    "SocketClose(s)\n",
    "input(‘Press “Enter” to exit’)\n",
    "\n",
    "if __name__ == ‘__main__’:\n",
    "proc = main()"
   ]
  },
  {
   "cell_type": "code",
   "execution_count": 1,
   "metadata": {},
   "outputs": [
    {
     "ename": "ImportError",
     "evalue": "No module named 'scanip'",
     "output_type": "error",
     "traceback": [
      "\u001b[0;31m---------------------------------------------------------------------------\u001b[0m",
      "\u001b[0;31mImportError\u001b[0m                               Traceback (most recent call last)",
      "\u001b[0;32m<ipython-input-1-cb90982db905>\u001b[0m in \u001b[0;36m<module>\u001b[0;34m\u001b[0m\n\u001b[0;32m----> 1\u001b[0;31m \u001b[0;32mimport\u001b[0m \u001b[0mscanip\u001b[0m\u001b[0;34m.\u001b[0m\u001b[0mscanip\u001b[0m\u001b[0;34m\u001b[0m\u001b[0m\n\u001b[0m\u001b[1;32m      2\u001b[0m \u001b[0mscanip\u001b[0m\u001b[0;34m.\u001b[0m\u001b[0mscanip\u001b[0m\u001b[0;34m\u001b[0m\u001b[0m\n",
      "\u001b[0;31mImportError\u001b[0m: No module named 'scanip'"
     ]
    }
   ],
   "source": [
    "import scanip.scanip\n",
    "scanip.scanip"
   ]
  },
  {
   "cell_type": "code",
   "execution_count": 2,
   "metadata": {},
   "outputs": [
    {
     "ename": "NameError",
     "evalue": "name 'arp' is not defined",
     "output_type": "error",
     "traceback": [
      "\u001b[0;31m---------------------------------------------------------------------------\u001b[0m",
      "\u001b[0;31mNameError\u001b[0m                                 Traceback (most recent call last)",
      "\u001b[0;32m<ipython-input-2-ec4be5bf0ffe>\u001b[0m in \u001b[0;36m<module>\u001b[0;34m\u001b[0m\n\u001b[0;32m----> 1\u001b[0;31m \u001b[0marp\u001b[0m\u001b[0;34m-\u001b[0m\u001b[0mscan\u001b[0m \u001b[0;34m-\u001b[0m\u001b[0ml\u001b[0m \u001b[0;34m|\u001b[0m \u001b[0msort\u001b[0m\u001b[0;34m\u001b[0m\u001b[0m\n\u001b[0m",
      "\u001b[0;31mNameError\u001b[0m: name 'arp' is not defined"
     ]
    }
   ],
   "source": [
    "arp-scan -l | sort\n"
   ]
  },
  {
   "cell_type": "code",
   "execution_count": 5,
   "metadata": {},
   "outputs": [
    {
     "ename": "gaierror",
     "evalue": "[Errno -2] Name or service not known",
     "output_type": "error",
     "traceback": [
      "\u001b[0;31m---------------------------------------------------------------------------\u001b[0m",
      "\u001b[0;31mgaierror\u001b[0m                                  Traceback (most recent call last)",
      "\u001b[0;32m<ipython-input-5-f25ba7e54579>\u001b[0m in \u001b[0;36m<module>\u001b[0;34m\u001b[0m\n\u001b[1;32m      1\u001b[0m \u001b[0;32mimport\u001b[0m \u001b[0msocket\u001b[0m\u001b[0;34m\u001b[0m\u001b[0m\n\u001b[1;32m      2\u001b[0m \u001b[0mIP1\u001b[0m \u001b[0;34m=\u001b[0m \u001b[0msocket\u001b[0m\u001b[0;34m.\u001b[0m\u001b[0mgethostbyname\u001b[0m\u001b[0;34m(\u001b[0m\u001b[0msocket\u001b[0m\u001b[0;34m.\u001b[0m\u001b[0mgethostname\u001b[0m\u001b[0;34m(\u001b[0m\u001b[0;34m)\u001b[0m\u001b[0;34m)\u001b[0m \u001b[0;31m# local IP adress of your computer\u001b[0m\u001b[0;34m\u001b[0m\u001b[0m\n\u001b[0;32m----> 3\u001b[0;31m \u001b[0mIP2\u001b[0m \u001b[0;34m=\u001b[0m \u001b[0msocket\u001b[0m\u001b[0;34m.\u001b[0m\u001b[0mgethostbyname\u001b[0m\u001b[0;34m(\u001b[0m\u001b[0;34m\"IP1\"\u001b[0m\u001b[0;34m)\u001b[0m \u001b[0;31m# IP adress of remote computer\u001b[0m\u001b[0;34m\u001b[0m\u001b[0m\n\u001b[0m",
      "\u001b[0;31mgaierror\u001b[0m: [Errno -2] Name or service not known"
     ]
    }
   ],
   "source": [
    "import socket\n",
    "IP1 = socket.gethostbyname(socket.gethostname()) # local IP adress of your computer\n",
    "IP2 = socket.gethostbyname(\"IP1\") # IP adress of remote computer"
   ]
  },
  {
   "cell_type": "code",
   "execution_count": 6,
   "metadata": {},
   "outputs": [
    {
     "ename": "SyntaxError",
     "evalue": "unexpected EOF while parsing (<ipython-input-6-e2e14d224fff>, line 3)",
     "output_type": "error",
     "traceback": [
      "\u001b[0;36m  File \u001b[0;32m\"<ipython-input-6-e2e14d224fff>\"\u001b[0;36m, line \u001b[0;32m3\u001b[0m\n\u001b[0;31m    print ([ip for ip in socket.gethostbyname_ex(socket.gethostname())[2] if not ip.startswith(\"127.\")][:1]\u001b[0m\n\u001b[0m                                                                                                           ^\u001b[0m\n\u001b[0;31mSyntaxError\u001b[0m\u001b[0;31m:\u001b[0m unexpected EOF while parsing\n"
     ]
    }
   ],
   "source": [
    "import socket\n",
    "\n",
    "print ([ip for ip in socket.gethostbyname_ex(socket.gethostname())[2] if not ip.startswith(\"127.\")][:1]"
   ]
  },
  {
   "cell_type": "code",
   "execution_count": 7,
   "metadata": {},
   "outputs": [
    {
     "ename": "SyntaxError",
     "evalue": "unexpected EOF while parsing (<ipython-input-7-af2448edccd4>, line 5)",
     "output_type": "error",
     "traceback": [
      "\u001b[0;36m  File \u001b[0;32m\"<ipython-input-7-af2448edccd4>\"\u001b[0;36m, line \u001b[0;32m5\u001b[0m\n\u001b[0;31m    \u001b[0m\n\u001b[0m    ^\u001b[0m\n\u001b[0;31mSyntaxError\u001b[0m\u001b[0;31m:\u001b[0m unexpected EOF while parsing\n"
     ]
    }
   ],
   "source": [
    "import socket\n",
    "\n",
    "print ([ip for ip in socket.gethostbyname_ex(socket.gethostname())\n",
    "        if not ip.startswith(\"127.\")]\n",
    "       "
   ]
  },
  {
   "cell_type": "code",
   "execution_count": 9,
   "metadata": {},
   "outputs": [
    {
     "name": "stdout",
     "output_type": "stream",
     "text": [
      "Mapping...\n",
      "['192.168.7.1', '192.168.7.8', '192.168.7.23', '192.168.7.24', '192.168.7.45', '192.168.7.56', '192.168.7.73', '192.168.7.67', '192.168.7.124', '192.168.7.122', '192.168.7.70', '192.168.7.140', '192.168.7.115', '192.168.7.99', '192.168.7.130', '192.168.7.132', '192.168.7.127', '192.168.7.129', '192.168.7.148', '192.168.7.144', '192.168.7.137', '192.168.7.149', '192.168.7.164', '192.168.7.167', '192.168.7.170', '192.168.7.131', '192.168.7.142', '192.168.7.147', '192.168.7.165', '192.168.7.125', '192.168.7.212', '192.168.7.253', '192.168.7.252', '192.168.7.173', '192.168.7.251', '192.168.7.169', '192.168.7.217', '192.168.7.168', '192.168.7.219']\n"
     ]
    }
   ],
   "source": [
    "import os\n",
    "import socket    \n",
    "import multiprocessing\n",
    "import subprocess\n",
    "import os\n",
    "\n",
    "\n",
    "def pinger(job_q, results_q):\n",
    "    \"\"\"\n",
    "    Do Ping\n",
    "    :param job_q:\n",
    "    :param results_q:\n",
    "    :return:\n",
    "    \"\"\"\n",
    "    DEVNULL = open(os.devnull, 'w')\n",
    "    while True:\n",
    "\n",
    "        ip = job_q.get()\n",
    "\n",
    "        if ip is None:\n",
    "            break\n",
    "\n",
    "        try:\n",
    "            subprocess.check_call(['ping', '-c1', ip],\n",
    "                                  stdout=DEVNULL)\n",
    "            results_q.put(ip)\n",
    "        except:\n",
    "            pass\n",
    "\n",
    "\n",
    "def get_my_ip():\n",
    "    \"\"\"\n",
    "    Find my IP address\n",
    "    :return:\n",
    "    \"\"\"\n",
    "    s = socket.socket(socket.AF_INET, socket.SOCK_DGRAM)\n",
    "    s.connect((\"8.8.8.8\", 80))\n",
    "    ip = s.getsockname()[0]\n",
    "    s.close()\n",
    "    return ip\n",
    "\n",
    "\n",
    "def map_network(pool_size=255):\n",
    "    \"\"\"\n",
    "    Maps the network\n",
    "    :param pool_size: amount of parallel ping processes\n",
    "    :return: list of valid ip addresses\n",
    "    \"\"\"\n",
    "\n",
    "    ip_list = list()\n",
    "\n",
    "    # get my IP and compose a base like 192.168.1.xxx\n",
    "    ip_parts = get_my_ip().split('.')\n",
    "    base_ip = ip_parts[0] + '.' + ip_parts[1] + '.' + ip_parts[2] + '.'\n",
    "\n",
    "    # prepare the jobs queue\n",
    "    jobs = multiprocessing.Queue()\n",
    "    results = multiprocessing.Queue()\n",
    "\n",
    "    pool = [multiprocessing.Process(target=pinger, args=(jobs, results)) for i in range(pool_size)]\n",
    "\n",
    "    for p in pool:\n",
    "        p.start()\n",
    "\n",
    "    # cue hte ping processes\n",
    "    for i in range(1, 255):\n",
    "        jobs.put(base_ip + '{0}'.format(i))\n",
    "\n",
    "    for p in pool:\n",
    "        jobs.put(None)\n",
    "\n",
    "    for p in pool:\n",
    "        p.join()\n",
    "\n",
    "    # collect he results\n",
    "    while not results.empty():\n",
    "        ip = results.get()\n",
    "        ip_list.append(ip)\n",
    "\n",
    "    return ip_list\n",
    "\n",
    "\n",
    "if __name__ == '__main__':\n",
    "\n",
    "    print('Mapping...')\n",
    "    lst = map_network()\n",
    "    print(lst)"
   ]
  },
  {
   "cell_type": "code",
   "execution_count": 1,
   "metadata": {},
   "outputs": [
    {
     "ename": "ImportError",
     "evalue": "No module named 'scanip'",
     "output_type": "error",
     "traceback": [
      "\u001b[0;31m---------------------------------------------------------------------------\u001b[0m",
      "\u001b[0;31mImportError\u001b[0m                               Traceback (most recent call last)",
      "\u001b[0;32m<ipython-input-1-c2c0df8d2c1d>\u001b[0m in \u001b[0;36m<module>\u001b[0;34m\u001b[0m\n\u001b[0;32m----> 1\u001b[0;31m \u001b[0;32mimport\u001b[0m \u001b[0mscanip\u001b[0m\u001b[0;34m.\u001b[0m\u001b[0mscanip\u001b[0m\u001b[0;34m\u001b[0m\u001b[0m\n\u001b[0m\u001b[1;32m      2\u001b[0m \u001b[0;34m\u001b[0m\u001b[0m\n\u001b[1;32m      3\u001b[0m \u001b[0mscanip\u001b[0m\u001b[0;34m.\u001b[0m\u001b[0mscanip\u001b[0m\u001b[0;34m.\u001b[0m\u001b[0mstart_scan\u001b[0m\u001b[0;34m(\u001b[0m\u001b[0;34m)\u001b[0m\u001b[0;34m\u001b[0m\u001b[0m\n",
      "\u001b[0;31mImportError\u001b[0m: No module named 'scanip'"
     ]
    }
   ],
   "source": [
    "import scanip.scanip\n",
    "\n",
    "scanip.scanip.start_scan()\n"
   ]
  },
  {
   "cell_type": "code",
   "execution_count": 2,
   "metadata": {},
   "outputs": [
    {
     "ename": "NameError",
     "evalue": "name 'sniff' is not defined",
     "output_type": "error",
     "traceback": [
      "\u001b[0;31m---------------------------------------------------------------------------\u001b[0m",
      "\u001b[0;31mNameError\u001b[0m                                 Traceback (most recent call last)",
      "\u001b[0;32m<ipython-input-2-f43b418fedef>\u001b[0m in \u001b[0;36m<module>\u001b[0;34m\u001b[0m\n\u001b[1;32m      5\u001b[0m         \u001b[0;32mreturn\u001b[0m \u001b[0mpkt\u001b[0m\u001b[0;34m.\u001b[0m\u001b[0msprintf\u001b[0m\u001b[0;34m(\u001b[0m\u001b[0;34m\"%ARP.hwsrc% %ARP.psrc%\"\u001b[0m\u001b[0;34m)\u001b[0m\u001b[0;34m\u001b[0m\u001b[0m\n\u001b[1;32m      6\u001b[0m \u001b[0;34m\u001b[0m\u001b[0m\n\u001b[0;32m----> 7\u001b[0;31m \u001b[0msniff\u001b[0m\u001b[0;34m(\u001b[0m\u001b[0mprn\u001b[0m\u001b[0;34m=\u001b[0m\u001b[0marp_monitor_callback\u001b[0m\u001b[0;34m,\u001b[0m \u001b[0mfilter\u001b[0m\u001b[0;34m=\u001b[0m\u001b[0;34m\"arp\"\u001b[0m\u001b[0;34m,\u001b[0m \u001b[0mstore\u001b[0m\u001b[0;34m=\u001b[0m\u001b[0;36m0\u001b[0m\u001b[0;34m)\u001b[0m\u001b[0;34m\u001b[0m\u001b[0m\n\u001b[0m",
      "\u001b[0;31mNameError\u001b[0m: name 'sniff' is not defined"
     ]
    }
   ],
   "source": [
    "from scapy import *\n",
    "\n",
    "def arp_monitor_callback(pkt):\n",
    "    if ARP in pkt and pkt[ARP].op in (1,2): #who-has or is-at\n",
    "        return pkt.sprintf(\"%ARP.hwsrc% %ARP.psrc%\")\n",
    "\n",
    "sniff(prn=arp_monitor_callback, filter=\"arp\", store=0)"
   ]
  },
  {
   "cell_type": "code",
   "execution_count": 3,
   "metadata": {},
   "outputs": [],
   "source": [
    "import scapy.all as scapy"
   ]
  },
  {
   "cell_type": "code",
   "execution_count": 5,
   "metadata": {},
   "outputs": [
    {
     "ename": "SyntaxError",
     "evalue": "invalid syntax (<ipython-input-5-db1bb902276c>, line 1)",
     "output_type": "error",
     "traceback": [
      "\u001b[0;36m  File \u001b[0;32m\"<ipython-input-5-db1bb902276c>\"\u001b[0;36m, line \u001b[0;32m1\u001b[0m\n\u001b[0;31m    def scan(ip)\u001b[0m\n\u001b[0m                ^\u001b[0m\n\u001b[0;31mSyntaxError\u001b[0m\u001b[0;31m:\u001b[0m invalid syntax\n"
     ]
    }
   ],
   "source": [
    "def scan(ip)"
   ]
  },
  {
   "cell_type": "code",
   "execution_count": 6,
   "metadata": {},
   "outputs": [
    {
     "name": "stderr",
     "output_type": "stream",
     "text": [
      "usage: ipykernel_launcher.py [-h] [-t TARGET]\n",
      "ipykernel_launcher.py: error: unrecognized arguments: -f /run/user/1000/jupyter/kernel-2ed6359b-5d80-43dc-a0e8-c82100cbc420.json\n"
     ]
    },
    {
     "ename": "SystemExit",
     "evalue": "2",
     "output_type": "error",
     "traceback": [
      "An exception has occurred, use %tb to see the full traceback.\n",
      "\u001b[0;31mSystemExit\u001b[0m\u001b[0;31m:\u001b[0m 2\n"
     ]
    },
    {
     "name": "stderr",
     "output_type": "stream",
     "text": [
      "/home/user/.local/lib/python3.5/site-packages/IPython/core/interactiveshell.py:3275: UserWarning: To exit: use 'exit', 'quit', or Ctrl-D.\n",
      "  warn(\"To exit: use 'exit', 'quit', or Ctrl-D.\", stacklevel=1)\n"
     ]
    }
   ],
   "source": [
    "import scapy.all as scapy\n",
    "import argparse\n",
    "\n",
    "def get_arguments():\n",
    "    parser = argparse.ArgumentParser()\n",
    "    parser.add_argument(\"-t\", \"--target\", dest=\"target\",\n",
    "                        help=\"Target IP/IP Range\")\n",
    "    options = parser.parse_args()\n",
    "    return options\n",
    "\n",
    "def scan(ip):\n",
    "    arp_request = scapy.ARP(pdst=ip)\n",
    "    broadcast = scapy.Ether(dst=\"ff:ff:ff:ff:ff:ff\")\n",
    "    arp_request_broadcast = broadcast/arp_request\n",
    "    answered_list = scapy.srp(arp_request_broadcast, timeout=1,\n",
    "                              verbose=False)[0]\n",
    "\n",
    "    clients_list = []\n",
    "    for element in answered_list:\n",
    "        client_dict = {\"ip\": element[1].psrc, \"mac\": element[1].hwsrc}\n",
    "        clients_list.append(client_dict)\n",
    "    return clients_list\n",
    "\n",
    "def print_result(results_list):\n",
    "    print(\"IP\\t\\t\\tMAC Address\")\n",
    "    print(\"----------------------------------------------------\")\n",
    "    for client in results_list:\n",
    "        print(client[\"ip\"] + \"\\t\\t\" + client[\"mac\"])\n",
    "\n",
    "options = get_arguments()\n",
    "scan_result = scan(options.target)\n",
    "print_result(scan_result)"
   ]
  },
  {
   "cell_type": "code",
   "execution_count": 8,
   "metadata": {},
   "outputs": [],
   "source": [
    "def print_result(results_list):\n",
    "    print(\"IP\\t\\t\\tMAC Address\")\n",
    "    print(\"----------------------------------------------------\")\n",
    "    for client in results_list:\n",
    "        print(client[\"ip\"] + \"\\t\\t\" + client[\"mac\"])"
   ]
  },
  {
   "cell_type": "code",
   "execution_count": 10,
   "metadata": {},
   "outputs": [
    {
     "ename": "NameError",
     "evalue": "name 'arp' is not defined",
     "output_type": "error",
     "traceback": [
      "\u001b[0;31m---------------------------------------------------------------------------\u001b[0m",
      "\u001b[0;31mNameError\u001b[0m                                 Traceback (most recent call last)",
      "\u001b[0;32m<ipython-input-10-42e75728bf04>\u001b[0m in \u001b[0;36m<module>\u001b[0;34m\u001b[0m\n\u001b[0;32m----> 1\u001b[0;31m \u001b[0marp\u001b[0m \u001b[0;34m-\u001b[0m\u001b[0ma\u001b[0m\u001b[0;34m\u001b[0m\u001b[0m\n\u001b[0m",
      "\u001b[0;31mNameError\u001b[0m: name 'arp' is not defined"
     ]
    }
   ],
   "source": [
    "arp -a\n"
   ]
  },
  {
   "cell_type": "code",
   "execution_count": 11,
   "metadata": {},
   "outputs": [
    {
     "ename": "SyntaxError",
     "evalue": "invalid syntax (<ipython-input-11-1e28271c1621>, line 1)",
     "output_type": "error",
     "traceback": [
      "\u001b[0;36m  File \u001b[0;32m\"<ipython-input-11-1e28271c1621>\"\u001b[0;36m, line \u001b[0;32m1\u001b[0m\n\u001b[0;31m    printf \"<html>\\n<title>LAN IPs and their MACs</title>\\n<body>\\n\"\u001b[0m\n\u001b[0m                                                                   ^\u001b[0m\n\u001b[0;31mSyntaxError\u001b[0m\u001b[0;31m:\u001b[0m invalid syntax\n"
     ]
    }
   ],
   "source": [
    "printf \"<html>\\n<title>LAN IPs and their MACs</title>\\n<body>\\n\"\n",
    "arp -a | awk '{print $2,$4}' | awk -F'[().: ]' '{print $2\".\"$3\".\"$4\".\"$5,$6,$7\":\"$8\":\"$9\":\"$10\":\"$11\":\"$12,\"<a href=\\\"http://standards.ieee.org/cgi-bin/ouisearch?\"$7$8$9\"\\\">IEEE OUI Lookup \"$7\"-\"$8\"-\"$9\"</a><br>\"}'\n",
    "printf \"\\n</body>\\n</html>\\n\""
   ]
  },
  {
   "cell_type": "code",
   "execution_count": 16,
   "metadata": {},
   "outputs": [
    {
     "ename": "PermissionError",
     "evalue": "[Errno 13] Permission denied: '/root/info.txt'",
     "output_type": "error",
     "traceback": [
      "\u001b[0;31m---------------------------------------------------------------------------\u001b[0m",
      "\u001b[0;31mPermissionError\u001b[0m                           Traceback (most recent call last)",
      "\u001b[0;32m<ipython-input-16-29fdf7bedea4>\u001b[0m in \u001b[0;36m<module>\u001b[0;34m\u001b[0m\n\u001b[1;32m      1\u001b[0m \u001b[0;32mimport\u001b[0m \u001b[0mos\u001b[0m\u001b[0;34m,\u001b[0m\u001b[0mre\u001b[0m\u001b[0;34m\u001b[0m\u001b[0m\n\u001b[0;32m----> 2\u001b[0;31m \u001b[0mfile\u001b[0m\u001b[0;34m=\u001b[0m\u001b[0mopen\u001b[0m\u001b[0;34m(\u001b[0m\u001b[0;34m'/root/info.txt'\u001b[0m\u001b[0;34m,\u001b[0m\u001b[0;34m'w+'\u001b[0m\u001b[0;34m)\u001b[0m\u001b[0;34m\u001b[0m\u001b[0m\n\u001b[0m\u001b[1;32m      3\u001b[0m \u001b[0;34m\u001b[0m\u001b[0m\n\u001b[1;32m      4\u001b[0m \u001b[0mr\u001b[0m\u001b[0;34m=\u001b[0m\u001b[0mraw_input\u001b[0m\u001b[0;34m(\u001b[0m\u001b[0;34m'ip\\n\\r'\u001b[0m\u001b[0;34m)\u001b[0m\u001b[0;34m\u001b[0m\u001b[0m\n\u001b[1;32m      5\u001b[0m \u001b[0mos\u001b[0m\u001b[0;34m.\u001b[0m\u001b[0msystem\u001b[0m\u001b[0;34m(\u001b[0m\u001b[0;34m'ping -c 1 '\u001b[0m\u001b[0;34m+\u001b[0m\u001b[0mr\u001b[0m\u001b[0;34m+\u001b[0m\u001b[0;34m' > /root/info.txt'\u001b[0m\u001b[0;34m)\u001b[0m\u001b[0;34m\u001b[0m\u001b[0m\n",
      "\u001b[0;31mPermissionError\u001b[0m: [Errno 13] Permission denied: '/root/info.txt'"
     ]
    }
   ],
   "source": [
    "import os,re\n",
    "file=open('/root/info.txt','w+')\n",
    "\n",
    "r=raw_input('ip\\n\\r')\n",
    "os.system('ping -c 1 '+r+' > /root/info.txt')\n",
    "os.system(\"arp -a \"+r+\" | awk '{print $4}'  > /root/info.txt\")\n",
    "data=file.read()\n",
    "print (data)"
   ]
  },
  {
   "cell_type": "code",
   "execution_count": 19,
   "metadata": {},
   "outputs": [
    {
     "ename": "NameError",
     "evalue": "name 'arp' is not defined",
     "output_type": "error",
     "traceback": [
      "\u001b[0;31m---------------------------------------------------------------------------\u001b[0m",
      "\u001b[0;31mNameError\u001b[0m                                 Traceback (most recent call last)",
      "\u001b[0;32m<ipython-input-19-7782304eef3f>\u001b[0m in \u001b[0;36m<module>\u001b[0;34m\u001b[0m\n\u001b[1;32m      1\u001b[0m \u001b[0;32mfrom\u001b[0m \u001b[0mscapy\u001b[0m \u001b[0;32mimport\u001b[0m \u001b[0;34m*\u001b[0m\u001b[0;34m\u001b[0m\u001b[0m\n\u001b[0;32m----> 2\u001b[0;31m \u001b[0marp\u001b[0m\u001b[0;34m-\u001b[0m\u001b[0mscan\u001b[0m \u001b[0;34m-\u001b[0m\u001b[0ml\u001b[0m \u001b[0;34m|\u001b[0m \u001b[0msort\u001b[0m\u001b[0;34m\u001b[0m\u001b[0m\n\u001b[0m\u001b[1;32m      3\u001b[0m \u001b[0;34m\u001b[0m\u001b[0m\n",
      "\u001b[0;31mNameError\u001b[0m: name 'arp' is not defined"
     ]
    }
   ],
   "source": [
    "from scapy import *\n",
    "\n",
    "\n"
   ]
  },
  {
   "cell_type": "code",
   "execution_count": 21,
   "metadata": {},
   "outputs": [
    {
     "ename": "PermissionError",
     "evalue": "[Errno 1] Operation not permitted",
     "output_type": "error",
     "traceback": [
      "\u001b[0;31m---------------------------------------------------------------------------\u001b[0m",
      "\u001b[0;31mPermissionError\u001b[0m                           Traceback (most recent call last)",
      "\u001b[0;32m<ipython-input-21-257fddf27b5f>\u001b[0m in \u001b[0;36m<module>\u001b[0;34m\u001b[0m\n\u001b[1;32m      5\u001b[0m         \u001b[0;32mreturn\u001b[0m \u001b[0mpkt\u001b[0m\u001b[0;34m.\u001b[0m\u001b[0msprintf\u001b[0m\u001b[0;34m(\u001b[0m\u001b[0;34m\"%ARP.hwsrc% %ARP.psrc%\"\u001b[0m\u001b[0;34m)\u001b[0m\u001b[0;34m\u001b[0m\u001b[0m\n\u001b[1;32m      6\u001b[0m \u001b[0;34m\u001b[0m\u001b[0m\n\u001b[0;32m----> 7\u001b[0;31m \u001b[0msniff\u001b[0m\u001b[0;34m(\u001b[0m\u001b[0mprn\u001b[0m\u001b[0;34m=\u001b[0m\u001b[0marp_monitor_callback\u001b[0m\u001b[0;34m,\u001b[0m \u001b[0mfilter\u001b[0m\u001b[0;34m=\u001b[0m\u001b[0;34m\"arp\"\u001b[0m\u001b[0;34m,\u001b[0m \u001b[0mstore\u001b[0m\u001b[0;34m=\u001b[0m\u001b[0;36m0\u001b[0m\u001b[0;34m)\u001b[0m\u001b[0;34m\u001b[0m\u001b[0m\n\u001b[0m",
      "\u001b[0;32m~/.local/lib/python3.5/site-packages/scapy/sendrecv.py\u001b[0m in \u001b[0;36msniff\u001b[0;34m(count, store, offline, prn, lfilter, L2socket, timeout, opened_socket, stop_filter, iface, started_callback, *arg, **karg)\u001b[0m\n\u001b[1;32m    834\u001b[0m         \u001b[0;32melse\u001b[0m\u001b[0;34m:\u001b[0m\u001b[0;34m\u001b[0m\u001b[0m\n\u001b[1;32m    835\u001b[0m             sniff_sockets[L2socket(type=ETH_P_ALL, iface=iface,\n\u001b[0;32m--> 836\u001b[0;31m                                    *arg, **karg)] = iface\n\u001b[0m\u001b[1;32m    837\u001b[0m     \u001b[0mlst\u001b[0m \u001b[0;34m=\u001b[0m \u001b[0;34m[\u001b[0m\u001b[0;34m]\u001b[0m\u001b[0;34m\u001b[0m\u001b[0m\n\u001b[1;32m    838\u001b[0m     \u001b[0;32mif\u001b[0m \u001b[0mtimeout\u001b[0m \u001b[0;32mis\u001b[0m \u001b[0;32mnot\u001b[0m \u001b[0;32mNone\u001b[0m\u001b[0;34m:\u001b[0m\u001b[0;34m\u001b[0m\u001b[0m\n",
      "\u001b[0;32m~/.local/lib/python3.5/site-packages/scapy/arch/linux.py\u001b[0m in \u001b[0;36m__init__\u001b[0;34m(self, iface, type, promisc, filter, nofilter, monitor)\u001b[0m\n\u001b[1;32m    443\u001b[0m             \u001b[0;32mif\u001b[0m \u001b[0;32mnot\u001b[0m \u001b[0mset_iface_monitor\u001b[0m\u001b[0;34m(\u001b[0m\u001b[0miface\u001b[0m\u001b[0;34m,\u001b[0m \u001b[0mmonitor\u001b[0m\u001b[0;34m)\u001b[0m\u001b[0;34m:\u001b[0m\u001b[0;34m\u001b[0m\u001b[0m\n\u001b[1;32m    444\u001b[0m                 \u001b[0mwarning\u001b[0m\u001b[0;34m(\u001b[0m\u001b[0;34m\"Could not change interface mode !\"\u001b[0m\u001b[0;34m)\u001b[0m\u001b[0;34m\u001b[0m\u001b[0m\n\u001b[0;32m--> 445\u001b[0;31m         \u001b[0mself\u001b[0m\u001b[0;34m.\u001b[0m\u001b[0mins\u001b[0m \u001b[0;34m=\u001b[0m \u001b[0msocket\u001b[0m\u001b[0;34m.\u001b[0m\u001b[0msocket\u001b[0m\u001b[0;34m(\u001b[0m\u001b[0msocket\u001b[0m\u001b[0;34m.\u001b[0m\u001b[0mAF_PACKET\u001b[0m\u001b[0;34m,\u001b[0m \u001b[0msocket\u001b[0m\u001b[0;34m.\u001b[0m\u001b[0mSOCK_RAW\u001b[0m\u001b[0;34m,\u001b[0m \u001b[0msocket\u001b[0m\u001b[0;34m.\u001b[0m\u001b[0mhtons\u001b[0m\u001b[0;34m(\u001b[0m\u001b[0mtype\u001b[0m\u001b[0;34m)\u001b[0m\u001b[0;34m)\u001b[0m  \u001b[0;31m# noqa: E501\u001b[0m\u001b[0;34m\u001b[0m\u001b[0m\n\u001b[0m\u001b[1;32m    446\u001b[0m         \u001b[0mself\u001b[0m\u001b[0;34m.\u001b[0m\u001b[0mins\u001b[0m\u001b[0;34m.\u001b[0m\u001b[0msetsockopt\u001b[0m\u001b[0;34m(\u001b[0m\u001b[0msocket\u001b[0m\u001b[0;34m.\u001b[0m\u001b[0mSOL_SOCKET\u001b[0m\u001b[0;34m,\u001b[0m \u001b[0msocket\u001b[0m\u001b[0;34m.\u001b[0m\u001b[0mSO_RCVBUF\u001b[0m\u001b[0;34m,\u001b[0m \u001b[0;36m0\u001b[0m\u001b[0;34m)\u001b[0m\u001b[0;34m\u001b[0m\u001b[0m\n\u001b[1;32m    447\u001b[0m         \u001b[0;32mif\u001b[0m \u001b[0;32mnot\u001b[0m \u001b[0mnofilter\u001b[0m\u001b[0;34m:\u001b[0m\u001b[0;34m\u001b[0m\u001b[0m\n",
      "\u001b[0;32m/usr/lib/python3.5/socket.py\u001b[0m in \u001b[0;36m__init__\u001b[0;34m(self, family, type, proto, fileno)\u001b[0m\n\u001b[1;32m    132\u001b[0m         \u001b[0;31m# constructor of _socket.socket converts the given argument to an\u001b[0m\u001b[0;34m\u001b[0m\u001b[0;34m\u001b[0m\u001b[0m\n\u001b[1;32m    133\u001b[0m         \u001b[0;31m# integer automatically.\u001b[0m\u001b[0;34m\u001b[0m\u001b[0;34m\u001b[0m\u001b[0m\n\u001b[0;32m--> 134\u001b[0;31m         \u001b[0m_socket\u001b[0m\u001b[0;34m.\u001b[0m\u001b[0msocket\u001b[0m\u001b[0;34m.\u001b[0m\u001b[0m__init__\u001b[0m\u001b[0;34m(\u001b[0m\u001b[0mself\u001b[0m\u001b[0;34m,\u001b[0m \u001b[0mfamily\u001b[0m\u001b[0;34m,\u001b[0m \u001b[0mtype\u001b[0m\u001b[0;34m,\u001b[0m \u001b[0mproto\u001b[0m\u001b[0;34m,\u001b[0m \u001b[0mfileno\u001b[0m\u001b[0;34m)\u001b[0m\u001b[0;34m\u001b[0m\u001b[0m\n\u001b[0m\u001b[1;32m    135\u001b[0m         \u001b[0mself\u001b[0m\u001b[0;34m.\u001b[0m\u001b[0m_io_refs\u001b[0m \u001b[0;34m=\u001b[0m \u001b[0;36m0\u001b[0m\u001b[0;34m\u001b[0m\u001b[0m\n\u001b[1;32m    136\u001b[0m         \u001b[0mself\u001b[0m\u001b[0;34m.\u001b[0m\u001b[0m_closed\u001b[0m \u001b[0;34m=\u001b[0m \u001b[0;32mFalse\u001b[0m\u001b[0;34m\u001b[0m\u001b[0m\n",
      "\u001b[0;31mPermissionError\u001b[0m: [Errno 1] Operation not permitted"
     ]
    }
   ],
   "source": [
    "from scapy.all import *\n",
    "\n",
    "def arp_monitor_callback(pkt):\n",
    "    if ARP in pkt and pkt[ARP].op in (1,2): #who-has or is-at\n",
    "        return pkt.sprintf(\"%ARP.hwsrc% %ARP.psrc%\")\n",
    "\n",
    "sniff(prn=arp_monitor_callback, filter=\"arp\", store=0)"
   ]
  },
  {
   "cell_type": "code",
   "execution_count": 24,
   "metadata": {},
   "outputs": [
    {
     "ename": "SyntaxError",
     "evalue": "invalid syntax (<ipython-input-24-9908202fa9ca>, line 4)",
     "output_type": "error",
     "traceback": [
      "\u001b[0;36m  File \u001b[0;32m\"<ipython-input-24-9908202fa9ca>\"\u001b[0;36m, line \u001b[0;32m4\u001b[0m\n\u001b[0;31m    int arp\u001b[0m\n\u001b[0m          ^\u001b[0m\n\u001b[0;31mSyntaxError\u001b[0m\u001b[0;31m:\u001b[0m invalid syntax\n"
     ]
    }
   ],
   "source": [
    "\n",
    "import re\n",
    "import subprocess\n",
    "\n",
    "arp_out =subprocess.check_output([arp-scan -l | sort\n",
    "])\n",
    "\n",
    "re.findall(r\"((\\w{2,2}\\:{0,1}){6})\",arp_out)"
   ]
  },
  {
   "cell_type": "code",
   "execution_count": 2,
   "metadata": {},
   "outputs": [
    {
     "ename": "NameError",
     "evalue": "name 'ifcfg' is not defined",
     "output_type": "error",
     "traceback": [
      "\u001b[0;31m---------------------------------------------------------------------------\u001b[0m",
      "\u001b[0;31mNameError\u001b[0m                                 Traceback (most recent call last)",
      "\u001b[0;32m<ipython-input-2-056a61aa0e67>\u001b[0m in \u001b[0;36m<module>\u001b[0;34m\u001b[0m\n\u001b[1;32m     77\u001b[0m \u001b[0;34m\u001b[0m\u001b[0m\n\u001b[1;32m     78\u001b[0m \u001b[0;32mif\u001b[0m \u001b[0m__name__\u001b[0m \u001b[0;34m==\u001b[0m \u001b[0;34m\"__main__\"\u001b[0m\u001b[0;34m:\u001b[0m\u001b[0;34m\u001b[0m\u001b[0m\n\u001b[0;32m---> 79\u001b[0;31m    \u001b[0mdevices\u001b[0m \u001b[0;34m=\u001b[0m \u001b[0mstart_scan\u001b[0m\u001b[0;34m(\u001b[0m\u001b[0mverbose\u001b[0m\u001b[0;34m=\u001b[0m\u001b[0;32mTrue\u001b[0m\u001b[0;34m)\u001b[0m\u001b[0;34m\u001b[0m\u001b[0m\n\u001b[0m\u001b[1;32m     80\u001b[0m \u001b[0mshow\u001b[0m\u001b[0;34m(\u001b[0m\u001b[0mdevices\u001b[0m\u001b[0;34m)\u001b[0m\u001b[0;34m\u001b[0m\u001b[0m\n",
      "\u001b[0;32m<ipython-input-2-056a61aa0e67>\u001b[0m in \u001b[0;36mstart_scan\u001b[0;34m(verbose)\u001b[0m\n\u001b[1;32m     41\u001b[0m \u001b[0;34m\u001b[0m\u001b[0m\n\u001b[1;32m     42\u001b[0m \u001b[0;32mdef\u001b[0m \u001b[0mstart_scan\u001b[0m\u001b[0;34m(\u001b[0m\u001b[0mverbose\u001b[0m\u001b[0;34m=\u001b[0m\u001b[0;32mFalse\u001b[0m\u001b[0;34m)\u001b[0m\u001b[0;34m:\u001b[0m\u001b[0;34m\u001b[0m\u001b[0m\n\u001b[0;32m---> 43\u001b[0;31m    \u001b[0mdefault\u001b[0m \u001b[0;34m=\u001b[0m \u001b[0mifcfg\u001b[0m\u001b[0;34m.\u001b[0m\u001b[0mdefault_interface\u001b[0m\u001b[0;34m(\u001b[0m\u001b[0;34m)\u001b[0m\u001b[0;34m\u001b[0m\u001b[0m\n\u001b[0m\u001b[1;32m     44\u001b[0m    \u001b[0mip\u001b[0m \u001b[0;34m=\u001b[0m \u001b[0mdefault\u001b[0m\u001b[0;34m[\u001b[0m\u001b[0;34m'inet'\u001b[0m\u001b[0;34m]\u001b[0m\u001b[0;34m\u001b[0m\u001b[0m\n\u001b[1;32m     45\u001b[0m    \u001b[0mip_list\u001b[0m \u001b[0;34m=\u001b[0m \u001b[0mip\u001b[0m\u001b[0;34m.\u001b[0m\u001b[0msplit\u001b[0m\u001b[0;34m(\u001b[0m\u001b[0;34m\".\"\u001b[0m\u001b[0;34m)\u001b[0m\u001b[0;34m\u001b[0m\u001b[0m\n",
      "\u001b[0;31mNameError\u001b[0m: name 'ifcfg' is not defined"
     ]
    }
   ],
   "source": [
    "from __future__ import print_function\n",
    "\n",
    "import types\n",
    "from scapy.all import *\n",
    "import os\n",
    "\n",
    "\n",
    "import json\n",
    "\n",
    "def arp_scan(interface,ipandsub,verbose=False):\n",
    "   packet = Ether(dst = \"ff:ff:ff:ff:ff:ff\" )/ARP(pdst=ipandsub)\n",
    "   ans,unans = srp(packet,timeout=2,iface=interface,verbose=verbose)\n",
    "   values=[]\n",
    "   for s,r in ans:\n",
    "      mac = r.sprintf(\"%Ether.src%\")\n",
    "      ip = r.sprintf(\"%ARP.psrc%\")\n",
    "      tup = (mac,ip)\n",
    "      values.append(tup)\n",
    "   return values\n",
    "\t  \n",
    "def calculate_network_id(ip_bin,subnet,net_addr):\n",
    "   subnet_position = (subnet/8) \n",
    "   position_boundary = (subnet % 8) \n",
    "   calc_octet = ['0','b']\n",
    "   if position_boundary > 0:\n",
    "      for i in range(2,position_boundary+2):\n",
    "         calc_octet.append(ip_bin[subnet_position][i])\n",
    "      for i in range(position_boundary+2,10):\n",
    "         calc_octet.append('0')\n",
    "      ip_bin[subnet_position] = ''.join(calc_octet)\n",
    "      if subnet_position < 3:\n",
    "         for i in range(subnet_position+1,len(ip_bin)):\n",
    "            ip_bin[i] = '0b00000000'\n",
    "         \n",
    "   if (position_boundary == 0 ):\n",
    "      for i in range(subnet_position,len(ip_bin)):\n",
    "         ip_bin[i] = '0b00000000'\n",
    "   for i in range(0,4):\n",
    "      net_addr.append(ip_bin[i])\n",
    "   return net_addr\n",
    "   \n",
    "def start_scan(verbose=False):\n",
    "   default = ifcfg.default_interface()\n",
    "   ip = default['inet']\n",
    "   ip_list = ip.split(\".\")\n",
    "   ip_bin = []\n",
    "   for i in ip_list:\n",
    "      each_bin = str(bin(int(i))).lstrip(\"0b\")\n",
    "      if len(each_bin) < 10:\n",
    "         if len(each_bin) < 8:\n",
    "            for j in range(1,(9 - len(each_bin))):\n",
    "               each_bin = '0'+str(each_bin)\n",
    "         each_bin = '0b'+str(each_bin)\n",
    "      ip_bin.append(each_bin)     \t  \n",
    "\n",
    "   mask = default['netmask']\n",
    "   mask = mask.split(\".\")\n",
    "   mask_bin = []\n",
    "   subnet = 0\n",
    "   net_addr = []\n",
    "   for i in mask:\n",
    "      bin_eq  = bin(int(i))\n",
    "      mask_bin.append(bin_eq)\n",
    "      for i in range(2,len(str(bin_eq))):\n",
    "         if bin_eq[i] == \"1\":\n",
    "            subnet += 1\n",
    "   netid = calculate_network_id(ip_bin,subnet,net_addr)\n",
    "   network_id = str(int(netid[0],2))+\".\"+str(int(netid[1],2))+\".\"+str(int(netid[2],2))+\".\"+str(int(netid[3],2))\n",
    "   #print(network_id)\n",
    "   interface = default['device']\n",
    "   ipandsub = network_id+\"/\"+str(subnet)\n",
    "   return arp_scan(interface,ipandsub,verbose)\n",
    "\n",
    "def show(devices):\n",
    "   for device in devices:\n",
    "      print(\"%s\\t%s\" % device)\n",
    "\n",
    "if __name__ == \"__main__\":\n",
    "   devices = start_scan(verbose=True)\n",
    "show(devices)"
   ]
  },
  {
   "cell_type": "code",
   "execution_count": 1,
   "metadata": {},
   "outputs": [
    {
     "name": "stdout",
     "output_type": "stream",
     "text": [
      "Mapping...\n",
      "1   192.168.7.1\n",
      "2   192.168.7.11\n",
      "3   192.168.7.29\n",
      "4   192.168.7.14\n",
      "5   192.168.7.16\n",
      "6   192.168.7.30\n",
      "7   192.168.7.40\n",
      "8   192.168.7.12\n",
      "9   192.168.7.33\n",
      "10   192.168.7.41\n",
      "11   192.168.7.59\n",
      "12   192.168.7.18\n",
      "13   192.168.7.25\n",
      "14   192.168.7.27\n",
      "15   192.168.7.31\n",
      "16   192.168.7.51\n",
      "17   192.168.7.53\n",
      "18   192.168.7.24\n",
      "19   192.168.7.68\n",
      "20   192.168.7.46\n",
      "21   192.168.7.35\n",
      "22   192.168.7.20\n",
      "23   192.168.7.8\n",
      "24   192.168.7.39\n",
      "25   192.168.7.77\n",
      "26   192.168.7.90\n",
      "27   192.168.7.48\n",
      "28   192.168.7.37\n",
      "29   192.168.7.36\n",
      "30   192.168.7.54\n",
      "31   192.168.7.56\n",
      "32   192.168.7.91\n",
      "33   192.168.7.85\n",
      "34   192.168.7.74\n",
      "35   192.168.7.55\n",
      "36   192.168.7.52\n",
      "37   192.168.7.47\n",
      "38   192.168.7.49\n",
      "39   192.168.7.57\n",
      "40   192.168.7.131\n",
      "41   192.168.7.66\n",
      "42   192.168.7.72\n",
      "43   192.168.7.62\n",
      "44   192.168.7.71\n",
      "45   192.168.7.69\n",
      "46   192.168.7.63\n",
      "47   192.168.7.22\n",
      "48   192.168.7.86\n",
      "49   192.168.7.93\n",
      "50   192.168.7.58\n",
      "51   192.168.7.76\n",
      "52   192.168.7.64\n",
      "53   192.168.7.70\n",
      "54   192.168.7.92\n",
      "55   192.168.7.87\n",
      "56   192.168.7.95\n",
      "57   192.168.7.65\n",
      "58   192.168.7.84\n",
      "59   192.168.7.136\n",
      "60   192.168.7.176\n",
      "61   192.168.7.149\n",
      "62   192.168.7.147\n",
      "63   192.168.7.144\n",
      "64   192.168.7.142\n",
      "65   192.168.7.170\n",
      "66   192.168.7.173\n",
      "67   192.168.7.127\n",
      "68   192.168.7.73\n",
      "69   192.168.7.99\n",
      "70   192.168.7.60\n",
      "71   192.168.7.61\n",
      "72   192.168.7.45\n",
      "73   192.168.7.148\n",
      "74   192.168.7.133\n",
      "75   192.168.7.115\n",
      "76   192.168.7.130\n",
      "77   192.168.7.132\n",
      "78   192.168.7.189\n",
      "79   192.168.7.164\n",
      "80   192.168.7.212\n",
      "81   192.168.7.251\n",
      "82   192.168.7.217\n",
      "83   192.168.7.129\n",
      "84   192.168.7.168\n",
      "85   192.168.7.169\n",
      "86   192.168.7.245\n",
      "87   192.168.7.214\n",
      "88   192.168.7.219\n",
      "89   192.168.7.165\n",
      "90   192.168.7.253\n",
      "91   192.168.7.188\n"
     ]
    }
   ],
   "source": [
    "import os\n",
    "import socket    \n",
    "import multiprocessing\n",
    "import subprocess\n",
    "import os\n",
    "\n",
    "\n",
    "def pinger(job_q, results_q):\n",
    "    \"\"\"\n",
    "    Do Ping\n",
    "    :param job_q:\n",
    "    :param results_q:\n",
    "    :return:\n",
    "    \"\"\"\n",
    "    DEVNULL = open(os.devnull, 'w')\n",
    "    while True:\n",
    "\n",
    "        ip = job_q.get()\n",
    "\n",
    "        if ip is None:\n",
    "            break\n",
    "\n",
    "        try:\n",
    "            subprocess.check_call(['ping', '-c1', ip],\n",
    "                                  stdout=DEVNULL)\n",
    "            results_q.put(ip)\n",
    "        except:\n",
    "            pass\n",
    "\n",
    "\n",
    "def get_my_ip():\n",
    "    \"\"\"\n",
    "    Find my IP address\n",
    "    :return:\n",
    "    \"\"\"\n",
    "    s = socket.socket(socket.AF_INET, socket.SOCK_DGRAM)\n",
    "    s.connect((\"8.8.8.8\", 80))\n",
    "    ip = s.getsockname()[0]\n",
    "    s.close()\n",
    "    return ip\n",
    "\n",
    "\n",
    "def map_network(pool_size=255):\n",
    "    \"\"\"\n",
    "    Maps the network\n",
    "    :param pool_size: amount of parallel ping processes\n",
    "    :return: list of valid ip addresses\n",
    "    \"\"\"\n",
    "\n",
    "    ip_list = list()\n",
    "\n",
    "    # get my IP and compose a base like 192.168.1.xxx\n",
    "    ip_parts = get_my_ip().split('.')\n",
    "    base_ip = ip_parts[0] + '.' + ip_parts[1] + '.' + ip_parts[2] + '.'\n",
    "\n",
    "    # prepare the jobs queue\n",
    "    jobs = multiprocessing.Queue()\n",
    "    results = multiprocessing.Queue()\n",
    "\n",
    "    pool = [multiprocessing.Process(target=pinger, args=(jobs, results)) for i in range(pool_size)]\n",
    "\n",
    "    for p in pool:\n",
    "        p.start()\n",
    "\n",
    "    # cue hte ping processes\n",
    "    for i in range(1, 255):\n",
    "        jobs.put(base_ip + '{0}'.format(i))\n",
    "\n",
    "    for p in pool:\n",
    "        jobs.put(None)\n",
    "\n",
    "    for p in pool:\n",
    "        p.join()\n",
    "\n",
    "    # collect he results\n",
    "    while not results.empty():\n",
    "        ip = results.get()\n",
    "        ip_list.append(ip)\n",
    "\n",
    "    return ip_list\n",
    "\n",
    "\n",
    "if __name__ == '__main__':\n",
    "\n",
    "    print('Mapping...')\n",
    "    lst = map_network()\n",
    "    for i in lst:\n",
    "        print(lst.index(i) +1, end=' ')\n",
    "        print(\" \",i)\n",
    "        "
   ]
  },
  {
   "cell_type": "code",
   "execution_count": 9,
   "metadata": {},
   "outputs": [],
   "source": [
    "import netifaces as nif\n",
    "def mac_for_ip(ip):\n",
    "    'Returns a list of MACs for interfaces that have given IP, returns None if not found'\n",
    "    for i in nif.interfaces():\n",
    "        addrs = nif.ifaddresses(i)\n",
    "        try:\n",
    "            if_mac = addrs[nif.AF_LINK][0]['addr']\n",
    "            if_ip = addrs[nif.AF_INET][0]['addr']\n",
    "        except IndexError:\n",
    "            if_mac = if_ip = None\n",
    "        if if_ip == ip:\n",
    "            return if_mac\n",
    "    return None\n"
   ]
  },
  {
   "cell_type": "code",
   "execution_count": 10,
   "metadata": {},
   "outputs": [
    {
     "data": {
      "text/plain": [
       "'94:c6:91:31:c7:5c'"
      ]
     },
     "execution_count": 10,
     "metadata": {},
     "output_type": "execute_result"
    }
   ],
   "source": [
    "mac_for_ip('192.168.7.131')"
   ]
  },
  {
   "cell_type": "code",
   "execution_count": 11,
   "metadata": {},
   "outputs": [
    {
     "ename": "SyntaxError",
     "evalue": "invalid syntax (<ipython-input-11-7493c546a756>, line 2)",
     "output_type": "error",
     "traceback": [
      "\u001b[0;36m  File \u001b[0;32m\"<ipython-input-11-7493c546a756>\"\u001b[0;36m, line \u001b[0;32m2\u001b[0m\n\u001b[0;31m    print ':'.join(['{:02x}'.format((uuid.getnode() >> i) & 0xff) for i in range(0,8*6,8)][::-1])\u001b[0m\n\u001b[0m            ^\u001b[0m\n\u001b[0;31mSyntaxError\u001b[0m\u001b[0;31m:\u001b[0m invalid syntax\n"
     ]
    }
   ],
   "source": [
    "import uuid\n",
    "print ':'.join(['{:02x}'.format((uuid.getnode() >> i) & 0xff) for i in range(0,8*6,8)][::-1])"
   ]
  },
  {
   "cell_type": "code",
   "execution_count": 2,
   "metadata": {},
   "outputs": [
    {
     "ename": "PermissionError",
     "evalue": "[Errno 1] Operation not permitted",
     "output_type": "error",
     "traceback": [
      "\u001b[0;31m---------------------------------------------------------------------------\u001b[0m",
      "\u001b[0;31mPermissionError\u001b[0m                           Traceback (most recent call last)",
      "\u001b[0;32m<ipython-input-2-7e397fb45675>\u001b[0m in \u001b[0;36m<module>\u001b[0;34m\u001b[0m\n\u001b[1;32m      1\u001b[0m \u001b[0;32mfrom\u001b[0m \u001b[0mscapy\u001b[0m\u001b[0;34m.\u001b[0m\u001b[0mall\u001b[0m \u001b[0;32mimport\u001b[0m \u001b[0;34m*\u001b[0m\u001b[0;34m\u001b[0m\u001b[0m\n\u001b[1;32m      2\u001b[0m \u001b[0marp_frame\u001b[0m \u001b[0;34m=\u001b[0m \u001b[0mEther\u001b[0m\u001b[0;34m(\u001b[0m\u001b[0mdst\u001b[0m\u001b[0;34m=\u001b[0m\u001b[0;34m\"ff:ff:ff:ff:ff:ff\"\u001b[0m\u001b[0;34m)\u001b[0m\u001b[0;34m/\u001b[0m\u001b[0mARP\u001b[0m\u001b[0;34m(\u001b[0m\u001b[0mop\u001b[0m\u001b[0;34m=\u001b[0m\u001b[0;36m1\u001b[0m\u001b[0;34m,\u001b[0m \u001b[0mpdst\u001b[0m\u001b[0;34m=\u001b[0m\u001b[0;34m\"10.0.0.3\"\u001b[0m\u001b[0;34m)\u001b[0m\u001b[0;34m\u001b[0m\u001b[0m\n\u001b[0;32m----> 3\u001b[0;31m \u001b[0mresp\u001b[0m\u001b[0;34m,\u001b[0m \u001b[0munans\u001b[0m \u001b[0;34m=\u001b[0m \u001b[0msrp\u001b[0m\u001b[0;34m(\u001b[0m\u001b[0marp_frame\u001b[0m\u001b[0;34m)\u001b[0m\u001b[0;34m\u001b[0m\u001b[0m\n\u001b[0m",
      "\u001b[0;32m~/env/lib/python3.5/site-packages/scapy/sendrecv.py\u001b[0m in \u001b[0;36msrp\u001b[0;34m(x, promisc, iface, iface_hint, filter, nofilter, type, *args, **kargs)\u001b[0m\n\u001b[1;32m    497\u001b[0m     \u001b[0;32mif\u001b[0m \u001b[0miface\u001b[0m \u001b[0;32mis\u001b[0m \u001b[0;32mNone\u001b[0m \u001b[0;32mand\u001b[0m \u001b[0miface_hint\u001b[0m \u001b[0;32mis\u001b[0m \u001b[0;32mnot\u001b[0m \u001b[0;32mNone\u001b[0m\u001b[0;34m:\u001b[0m\u001b[0;34m\u001b[0m\u001b[0m\n\u001b[1;32m    498\u001b[0m         \u001b[0miface\u001b[0m \u001b[0;34m=\u001b[0m \u001b[0mconf\u001b[0m\u001b[0;34m.\u001b[0m\u001b[0mroute\u001b[0m\u001b[0;34m.\u001b[0m\u001b[0mroute\u001b[0m\u001b[0;34m(\u001b[0m\u001b[0miface_hint\u001b[0m\u001b[0;34m)\u001b[0m\u001b[0;34m[\u001b[0m\u001b[0;36m0\u001b[0m\u001b[0;34m]\u001b[0m\u001b[0;34m\u001b[0m\u001b[0m\n\u001b[0;32m--> 499\u001b[0;31m     \u001b[0ms\u001b[0m \u001b[0;34m=\u001b[0m \u001b[0mconf\u001b[0m\u001b[0;34m.\u001b[0m\u001b[0mL2socket\u001b[0m\u001b[0;34m(\u001b[0m\u001b[0mpromisc\u001b[0m\u001b[0;34m=\u001b[0m\u001b[0mpromisc\u001b[0m\u001b[0;34m,\u001b[0m \u001b[0miface\u001b[0m\u001b[0;34m=\u001b[0m\u001b[0miface\u001b[0m\u001b[0;34m,\u001b[0m \u001b[0mfilter\u001b[0m\u001b[0;34m=\u001b[0m\u001b[0mfilter\u001b[0m\u001b[0;34m,\u001b[0m \u001b[0mnofilter\u001b[0m\u001b[0;34m=\u001b[0m\u001b[0mnofilter\u001b[0m\u001b[0;34m,\u001b[0m \u001b[0mtype\u001b[0m\u001b[0;34m=\u001b[0m\u001b[0mtype\u001b[0m\u001b[0;34m)\u001b[0m  \u001b[0;31m# noqa: E501\u001b[0m\u001b[0;34m\u001b[0m\u001b[0m\n\u001b[0m\u001b[1;32m    500\u001b[0m     \u001b[0mresult\u001b[0m \u001b[0;34m=\u001b[0m \u001b[0msndrcv\u001b[0m\u001b[0;34m(\u001b[0m\u001b[0ms\u001b[0m\u001b[0;34m,\u001b[0m \u001b[0mx\u001b[0m\u001b[0;34m,\u001b[0m \u001b[0;34m*\u001b[0m\u001b[0margs\u001b[0m\u001b[0;34m,\u001b[0m \u001b[0;34m**\u001b[0m\u001b[0mkargs\u001b[0m\u001b[0;34m)\u001b[0m\u001b[0;34m\u001b[0m\u001b[0m\n\u001b[1;32m    501\u001b[0m     \u001b[0ms\u001b[0m\u001b[0;34m.\u001b[0m\u001b[0mclose\u001b[0m\u001b[0;34m(\u001b[0m\u001b[0;34m)\u001b[0m\u001b[0;34m\u001b[0m\u001b[0m\n",
      "\u001b[0;32m~/env/lib/python3.5/site-packages/scapy/arch/linux.py\u001b[0m in \u001b[0;36m__init__\u001b[0;34m(self, iface, type, promisc, filter, nofilter, monitor)\u001b[0m\n\u001b[1;32m    443\u001b[0m             \u001b[0;32mif\u001b[0m \u001b[0;32mnot\u001b[0m \u001b[0mset_iface_monitor\u001b[0m\u001b[0;34m(\u001b[0m\u001b[0miface\u001b[0m\u001b[0;34m,\u001b[0m \u001b[0mmonitor\u001b[0m\u001b[0;34m)\u001b[0m\u001b[0;34m:\u001b[0m\u001b[0;34m\u001b[0m\u001b[0m\n\u001b[1;32m    444\u001b[0m                 \u001b[0mwarning\u001b[0m\u001b[0;34m(\u001b[0m\u001b[0;34m\"Could not change interface mode !\"\u001b[0m\u001b[0;34m)\u001b[0m\u001b[0;34m\u001b[0m\u001b[0m\n\u001b[0;32m--> 445\u001b[0;31m         \u001b[0mself\u001b[0m\u001b[0;34m.\u001b[0m\u001b[0mins\u001b[0m \u001b[0;34m=\u001b[0m \u001b[0msocket\u001b[0m\u001b[0;34m.\u001b[0m\u001b[0msocket\u001b[0m\u001b[0;34m(\u001b[0m\u001b[0msocket\u001b[0m\u001b[0;34m.\u001b[0m\u001b[0mAF_PACKET\u001b[0m\u001b[0;34m,\u001b[0m \u001b[0msocket\u001b[0m\u001b[0;34m.\u001b[0m\u001b[0mSOCK_RAW\u001b[0m\u001b[0;34m,\u001b[0m \u001b[0msocket\u001b[0m\u001b[0;34m.\u001b[0m\u001b[0mhtons\u001b[0m\u001b[0;34m(\u001b[0m\u001b[0mtype\u001b[0m\u001b[0;34m)\u001b[0m\u001b[0;34m)\u001b[0m  \u001b[0;31m# noqa: E501\u001b[0m\u001b[0;34m\u001b[0m\u001b[0m\n\u001b[0m\u001b[1;32m    446\u001b[0m         \u001b[0mself\u001b[0m\u001b[0;34m.\u001b[0m\u001b[0mins\u001b[0m\u001b[0;34m.\u001b[0m\u001b[0msetsockopt\u001b[0m\u001b[0;34m(\u001b[0m\u001b[0msocket\u001b[0m\u001b[0;34m.\u001b[0m\u001b[0mSOL_SOCKET\u001b[0m\u001b[0;34m,\u001b[0m \u001b[0msocket\u001b[0m\u001b[0;34m.\u001b[0m\u001b[0mSO_RCVBUF\u001b[0m\u001b[0;34m,\u001b[0m \u001b[0;36m0\u001b[0m\u001b[0;34m)\u001b[0m\u001b[0;34m\u001b[0m\u001b[0m\n\u001b[1;32m    447\u001b[0m         \u001b[0;32mif\u001b[0m \u001b[0;32mnot\u001b[0m \u001b[0mnofilter\u001b[0m\u001b[0;34m:\u001b[0m\u001b[0;34m\u001b[0m\u001b[0m\n",
      "\u001b[0;32m/usr/lib/python3.5/socket.py\u001b[0m in \u001b[0;36m__init__\u001b[0;34m(self, family, type, proto, fileno)\u001b[0m\n\u001b[1;32m    132\u001b[0m         \u001b[0;31m# constructor of _socket.socket converts the given argument to an\u001b[0m\u001b[0;34m\u001b[0m\u001b[0;34m\u001b[0m\u001b[0m\n\u001b[1;32m    133\u001b[0m         \u001b[0;31m# integer automatically.\u001b[0m\u001b[0;34m\u001b[0m\u001b[0;34m\u001b[0m\u001b[0m\n\u001b[0;32m--> 134\u001b[0;31m         \u001b[0m_socket\u001b[0m\u001b[0;34m.\u001b[0m\u001b[0msocket\u001b[0m\u001b[0;34m.\u001b[0m\u001b[0m__init__\u001b[0m\u001b[0;34m(\u001b[0m\u001b[0mself\u001b[0m\u001b[0;34m,\u001b[0m \u001b[0mfamily\u001b[0m\u001b[0;34m,\u001b[0m \u001b[0mtype\u001b[0m\u001b[0;34m,\u001b[0m \u001b[0mproto\u001b[0m\u001b[0;34m,\u001b[0m \u001b[0mfileno\u001b[0m\u001b[0;34m)\u001b[0m\u001b[0;34m\u001b[0m\u001b[0m\n\u001b[0m\u001b[1;32m    135\u001b[0m         \u001b[0mself\u001b[0m\u001b[0;34m.\u001b[0m\u001b[0m_io_refs\u001b[0m \u001b[0;34m=\u001b[0m \u001b[0;36m0\u001b[0m\u001b[0;34m\u001b[0m\u001b[0m\n\u001b[1;32m    136\u001b[0m         \u001b[0mself\u001b[0m\u001b[0;34m.\u001b[0m\u001b[0m_closed\u001b[0m \u001b[0;34m=\u001b[0m \u001b[0;32mFalse\u001b[0m\u001b[0;34m\u001b[0m\u001b[0m\n",
      "\u001b[0;31mPermissionError\u001b[0m: [Errno 1] Operation not permitted"
     ]
    }
   ],
   "source": [
    "from scapy.all import *\n",
    "arp_frame = Ether(dst=\"ff:ff:ff:ff:ff:ff\")/ARP(op=1, pdst=\"10.0.0.3\")\n",
    "resp, unans = srp(arp_frame)"
   ]
  },
  {
   "cell_type": "code",
   "execution_count": 9,
   "metadata": {},
   "outputs": [],
   "source": [
    "import netifaces as nif\n",
    "def mac_for_ip(ip):\n",
    "        for i in nif.interfaces():\n",
    "            addrs = nif.ifaddresses(i)\n",
    "            try:\n",
    "                if_mac = addrs[nif.AF_LINK][0]['addr']\n",
    "                if_ip = addrs[nif.AF_INET][0]['addr']\n",
    "            except IndexError: #ignore ifaces that dont have MAC or IP\n",
    "                if_mac = if_ip = None\n",
    "            if if_ip == ip:\n",
    "                return if_mac\n",
    "        return None"
   ]
  },
  {
   "cell_type": "code",
   "execution_count": 8,
   "metadata": {},
   "outputs": [
    {
     "ename": "SyntaxError",
     "evalue": "invalid syntax (<ipython-input-8-0be898603d26>, line 14)",
     "output_type": "error",
     "traceback": [
      "\u001b[0;36m  File \u001b[0;32m\"<ipython-input-8-0be898603d26>\"\u001b[0;36m, line \u001b[0;32m14\u001b[0m\n\u001b[0;31m    print rcv.sprintf(r\"%Ether.src%,%ARP.psrc%\")\u001b[0m\n\u001b[0m            ^\u001b[0m\n\u001b[0;31mSyntaxError\u001b[0m\u001b[0;31m:\u001b[0m invalid syntax\n"
     ]
    }
   ],
   "source": [
    "\n",
    "import sys\n",
    "if len(sys.argv) != 2:\n",
    "    print (\"Usage: pingarp \\n  eg: pingarp 192.168.7.131\")\n",
    "    sys.exit(1)\n",
    "\n",
    "from scapy import srp,Ether,ARP,conf\n",
    "conf.verb=0\n",
    "ans,unans=srp(Ether(dst=\"ff:ff:ff:ff:ff:ff\")/ARP(pdst=sys.argv[1]),\n",
    "              timeout=2)\n",
    "\n",
    "print (r\"MAC,IP\")\n",
    "for snd,rcv in ans:\n",
    "    print rcv.sprintf(r\"%Ether.src%,%ARP.psrc%\")"
   ]
  },
  {
   "cell_type": "code",
   "execution_count": 7,
   "metadata": {},
   "outputs": [
    {
     "ename": "SyntaxError",
     "evalue": "invalid syntax (<ipython-input-7-e8b115a174d2>, line 2)",
     "output_type": "error",
     "traceback": [
      "\u001b[0;36m  File \u001b[0;32m\"<ipython-input-7-e8b115a174d2>\"\u001b[0;36m, line \u001b[0;32m2\u001b[0m\n\u001b[0;31m    echo password | os.system('sudo arp-scan -l | sort')\u001b[0m\n\u001b[0m                ^\u001b[0m\n\u001b[0;31mSyntaxError\u001b[0m\u001b[0;31m:\u001b[0m invalid syntax\n"
     ]
    }
   ],
   "source": []
  },
  {
   "cell_type": "code",
   "execution_count": null,
   "metadata": {},
   "outputs": [],
   "source": [
    "import getpass\n",
    "import os\n",
    "password = getpass.getpass()\n",
    "command = \"sudo -S arp-scan -l\" #can be any command but don't forget -S as it enables input from stdin\n",
    "!os.system('echo %s | %s' % (password,command))"
   ]
  },
  {
   "cell_type": "code",
   "execution_count": 12,
   "metadata": {},
   "outputs": [
    {
     "name": "stdout",
     "output_type": "stream",
     "text": [
      "/home/user/ArpGuard\r\n"
     ]
    }
   ],
   "source": [
    "!pwd\n"
   ]
  },
  {
   "cell_type": "code",
   "execution_count": null,
   "metadata": {},
   "outputs": [
    {
     "name": "stdout",
     "output_type": "stream",
     "text": [
      "[sudo] password for user: "
     ]
    }
   ],
   "source": [
    "!sudo -S arp-scan -l"
   ]
  },
  {
   "cell_type": "code",
   "execution_count": null,
   "metadata": {},
   "outputs": [],
   "source": [
    "import getpass\n",
    "import os\n",
    "password = getpass.getpass()\n",
    "command = \"sudo -S arp-scan -l\" #can be any command but don't forget -S as it enables input from stdin\n",
    "os.system('echo %s | %s' % (password,command))"
   ]
  },
  {
   "cell_type": "code",
   "execution_count": null,
   "metadata": {},
   "outputs": [],
   "source": [
    "password"
   ]
  },
  {
   "cell_type": "code",
   "execution_count": 13,
   "metadata": {},
   "outputs": [
    {
     "ename": "TypeError",
     "evalue": "'int' object is not callable",
     "output_type": "error",
     "traceback": [
      "\u001b[0;31m---------------------------------------------------------------------------\u001b[0m",
      "\u001b[0;31mTypeError\u001b[0m                                 Traceback (most recent call last)",
      "\u001b[0;32m<ipython-input-13-18f50b010859>\u001b[0m in \u001b[0;36m<module>\u001b[0;34m\u001b[0m\n\u001b[1;32m      4\u001b[0m     \u001b[0;32mif\u001b[0m \u001b[0mARP\u001b[0m \u001b[0;32min\u001b[0m \u001b[0mpkt\u001b[0m \u001b[0;32mand\u001b[0m \u001b[0mpkt\u001b[0m\u001b[0;34m[\u001b[0m\u001b[0mARP\u001b[0m\u001b[0;34m]\u001b[0m\u001b[0;34m.\u001b[0m\u001b[0mop\u001b[0m \u001b[0;32min\u001b[0m \u001b[0;34m(\u001b[0m\u001b[0;36m1\u001b[0m\u001b[0;34m,\u001b[0m\u001b[0;36m2\u001b[0m\u001b[0;34m)\u001b[0m\u001b[0;34m:\u001b[0m \u001b[0;31m#who-has or is-at\u001b[0m\u001b[0;34m\u001b[0m\u001b[0m\n\u001b[1;32m      5\u001b[0m         \u001b[0;32mreturn\u001b[0m \u001b[0mpkt\u001b[0m\u001b[0;34m.\u001b[0m\u001b[0msprintf\u001b[0m\u001b[0;34m(\u001b[0m\u001b[0;34m\"%ARP.hwsrc% %ARP.psrc%\"\u001b[0m\u001b[0;34m)\u001b[0m\u001b[0;34m\u001b[0m\u001b[0m\n\u001b[0;32m----> 6\u001b[0;31m \u001b[0msniff\u001b[0m\u001b[0;34m(\u001b[0m\u001b[0mprn\u001b[0m\u001b[0;34m=\u001b[0m\u001b[0marp_monitor_callback\u001b[0m\u001b[0;34m,\u001b[0m \u001b[0mfilter\u001b[0m\u001b[0;34m=\u001b[0m\u001b[0;34m\"arp\"\u001b[0m\u001b[0;34m,\u001b[0m \u001b[0mstore\u001b[0m\u001b[0;34m=\u001b[0m\u001b[0;36m0\u001b[0m\u001b[0;34m)\u001b[0m\u001b[0;34m\u001b[0m\u001b[0m\n\u001b[0m",
      "\u001b[0;31mTypeError\u001b[0m: 'int' object is not callable"
     ]
    }
   ],
   "source": [
    "from scapy import *\n",
    "\n",
    "def arp_monitor_callback(pkt):\n",
    "    if ARP in pkt and pkt[ARP].op in (1,2): #who-has or is-at\n",
    "        return pkt.sprintf(\"%ARP.hwsrc% %ARP.psrc%\")\n",
    "sniff(prn=arp_monitor_callback, filter=\"arp\", store=0)"
   ]
  },
  {
   "cell_type": "code",
   "execution_count": 15,
   "metadata": {},
   "outputs": [
    {
     "ename": "CalledProcessError",
     "evalue": "Command '['arp', '-l']' returned non-zero exit status 4",
     "output_type": "error",
     "traceback": [
      "\u001b[0;31m---------------------------------------------------------------------------\u001b[0m",
      "\u001b[0;31mCalledProcessError\u001b[0m                        Traceback (most recent call last)",
      "\u001b[0;32m<ipython-input-15-7a2b998f2357>\u001b[0m in \u001b[0;36m<module>\u001b[0;34m\u001b[0m\n\u001b[1;32m      2\u001b[0m \u001b[0;32mimport\u001b[0m \u001b[0mre\u001b[0m\u001b[0;34m\u001b[0m\u001b[0m\n\u001b[1;32m      3\u001b[0m \u001b[0;32mimport\u001b[0m \u001b[0msubprocess\u001b[0m\u001b[0;34m\u001b[0m\u001b[0m\n\u001b[0;32m----> 4\u001b[0;31m \u001b[0marp_out\u001b[0m \u001b[0;34m=\u001b[0m\u001b[0msubprocess\u001b[0m\u001b[0;34m.\u001b[0m\u001b[0mcheck_output\u001b[0m\u001b[0;34m(\u001b[0m\u001b[0;34m[\u001b[0m\u001b[0;34m'arp'\u001b[0m\u001b[0;34m,\u001b[0m\u001b[0;34m'-l'\u001b[0m\u001b[0;34m]\u001b[0m\u001b[0;34m)\u001b[0m\u001b[0;34m\u001b[0m\u001b[0m\n\u001b[0m\u001b[1;32m      5\u001b[0m \u001b[0;34m\u001b[0m\u001b[0m\n\u001b[1;32m      6\u001b[0m \u001b[0mre\u001b[0m\u001b[0;34m.\u001b[0m\u001b[0mfindall\u001b[0m\u001b[0;34m(\u001b[0m\u001b[0;34mr\"((\\w{2,2}\\:{0,1}){6})\"\u001b[0m\u001b[0;34m,\u001b[0m\u001b[0marp_out\u001b[0m\u001b[0;34m)\u001b[0m\u001b[0;34m\u001b[0m\u001b[0m\n",
      "\u001b[0;32m/usr/lib/python3.5/subprocess.py\u001b[0m in \u001b[0;36mcheck_output\u001b[0;34m(timeout, *popenargs, **kwargs)\u001b[0m\n\u001b[1;32m    624\u001b[0m \u001b[0;34m\u001b[0m\u001b[0m\n\u001b[1;32m    625\u001b[0m     return run(*popenargs, stdout=PIPE, timeout=timeout, check=True,\n\u001b[0;32m--> 626\u001b[0;31m                **kwargs).stdout\n\u001b[0m\u001b[1;32m    627\u001b[0m \u001b[0;34m\u001b[0m\u001b[0m\n\u001b[1;32m    628\u001b[0m \u001b[0;34m\u001b[0m\u001b[0m\n",
      "\u001b[0;32m/usr/lib/python3.5/subprocess.py\u001b[0m in \u001b[0;36mrun\u001b[0;34m(input, timeout, check, *popenargs, **kwargs)\u001b[0m\n\u001b[1;32m    706\u001b[0m         \u001b[0;32mif\u001b[0m \u001b[0mcheck\u001b[0m \u001b[0;32mand\u001b[0m \u001b[0mretcode\u001b[0m\u001b[0;34m:\u001b[0m\u001b[0;34m\u001b[0m\u001b[0m\n\u001b[1;32m    707\u001b[0m             raise CalledProcessError(retcode, process.args,\n\u001b[0;32m--> 708\u001b[0;31m                                      output=stdout, stderr=stderr)\n\u001b[0m\u001b[1;32m    709\u001b[0m     \u001b[0;32mreturn\u001b[0m \u001b[0mCompletedProcess\u001b[0m\u001b[0;34m(\u001b[0m\u001b[0mprocess\u001b[0m\u001b[0;34m.\u001b[0m\u001b[0margs\u001b[0m\u001b[0;34m,\u001b[0m \u001b[0mretcode\u001b[0m\u001b[0;34m,\u001b[0m \u001b[0mstdout\u001b[0m\u001b[0;34m,\u001b[0m \u001b[0mstderr\u001b[0m\u001b[0;34m)\u001b[0m\u001b[0;34m\u001b[0m\u001b[0m\n\u001b[1;32m    710\u001b[0m \u001b[0;34m\u001b[0m\u001b[0m\n",
      "\u001b[0;31mCalledProcessError\u001b[0m: Command '['arp', '-l']' returned non-zero exit status 4"
     ]
    }
   ],
   "source": [
    "\n",
    "import re\n",
    "import subprocess\n",
    "arp_out =subprocess.check_output(['arp','-lan'])\n",
    "\n",
    "re.findall(r\"((\\w{2,2}\\:{0,1}){6})\",arp_out)"
   ]
  },
  {
   "cell_type": "code",
   "execution_count": 17,
   "metadata": {},
   "outputs": [
    {
     "ename": "NameError",
     "evalue": "name 'remoteIP' is not defined",
     "output_type": "error",
     "traceback": [
      "\u001b[0;31m---------------------------------------------------------------------------\u001b[0m",
      "\u001b[0;31mNameError\u001b[0m                                 Traceback (most recent call last)",
      "\u001b[0;32m<ipython-input-17-9eac173bbcf0>\u001b[0m in \u001b[0;36m<module>\u001b[0;34m\u001b[0m\n\u001b[0;32m----> 1\u001b[0;31m \u001b[0mprint\u001b[0m \u001b[0;34m(\u001b[0m\u001b[0mos\u001b[0m\u001b[0;34m.\u001b[0m\u001b[0msystem\u001b[0m\u001b[0;34m(\u001b[0m\u001b[0;34m'arp -n '\u001b[0m \u001b[0;34m+\u001b[0m \u001b[0mstr\u001b[0m\u001b[0;34m(\u001b[0m\u001b[0mremoteIP\u001b[0m\u001b[0;34m)\u001b[0m\u001b[0;34m)\u001b[0m\u001b[0;34m)\u001b[0m\u001b[0;34m\u001b[0m\u001b[0m\n\u001b[0m",
      "\u001b[0;31mNameError\u001b[0m: name 'remoteIP' is not defined"
     ]
    }
   ],
   "source": [
    "print (os.system('arp -n ' + str(remoteIP)))"
   ]
  },
  {
   "cell_type": "code",
   "execution_count": 20,
   "metadata": {},
   "outputs": [
    {
     "ename": "PermissionError",
     "evalue": "[Errno 1] Operation not permitted",
     "output_type": "error",
     "traceback": [
      "\u001b[0;31m---------------------------------------------------------------------------\u001b[0m",
      "\u001b[0;31mPermissionError\u001b[0m                           Traceback (most recent call last)",
      "\u001b[0;32m<ipython-input-20-82b8b9fc230f>\u001b[0m in \u001b[0;36m<module>\u001b[0;34m\u001b[0m\n\u001b[1;32m      1\u001b[0m \u001b[0;32mfrom\u001b[0m \u001b[0mscapy\u001b[0m\u001b[0;34m.\u001b[0m\u001b[0mall\u001b[0m \u001b[0;32mimport\u001b[0m \u001b[0;34m*\u001b[0m\u001b[0;34m\u001b[0m\u001b[0m\n\u001b[1;32m      2\u001b[0m \u001b[0;34m\u001b[0m\u001b[0m\n\u001b[0;32m----> 3\u001b[0;31m \u001b[0mans\u001b[0m\u001b[0;34m,\u001b[0m\u001b[0munans\u001b[0m \u001b[0;34m=\u001b[0m \u001b[0marping\u001b[0m\u001b[0;34m(\u001b[0m\u001b[0;34m\"192.168.7.131\"\u001b[0m\u001b[0;34m)\u001b[0m\u001b[0;34m\u001b[0m\u001b[0m\n\u001b[0m\u001b[1;32m      4\u001b[0m \u001b[0;32mfor\u001b[0m \u001b[0ms\u001b[0m\u001b[0;34m,\u001b[0m\u001b[0mr\u001b[0m \u001b[0;32min\u001b[0m \u001b[0mans\u001b[0m\u001b[0;34m:\u001b[0m\u001b[0;34m\u001b[0m\u001b[0m\n\u001b[1;32m      5\u001b[0m \u001b[0;34m\u001b[0m\u001b[0m\n",
      "\u001b[0;32m~/env/lib/python3.5/site-packages/scapy/layers/l2.py\u001b[0m in \u001b[0;36marping\u001b[0;34m(net, timeout, cache, verbose, **kargs)\u001b[0m\n\u001b[1;32m    610\u001b[0m         \u001b[0mverbose\u001b[0m \u001b[0;34m=\u001b[0m \u001b[0mconf\u001b[0m\u001b[0;34m.\u001b[0m\u001b[0mverb\u001b[0m\u001b[0;34m\u001b[0m\u001b[0m\n\u001b[1;32m    611\u001b[0m     ans, unans = srp(Ether(dst=\"ff:ff:ff:ff:ff:ff\") / ARP(pdst=net), verbose=verbose,  # noqa: E501\n\u001b[0;32m--> 612\u001b[0;31m                      filter=\"arp and arp[7] = 2\", timeout=timeout, iface_hint=net, **kargs)  # noqa: E501\n\u001b[0m\u001b[1;32m    613\u001b[0m     \u001b[0mans\u001b[0m \u001b[0;34m=\u001b[0m \u001b[0mARPingResult\u001b[0m\u001b[0;34m(\u001b[0m\u001b[0mans\u001b[0m\u001b[0;34m.\u001b[0m\u001b[0mres\u001b[0m\u001b[0;34m)\u001b[0m\u001b[0;34m\u001b[0m\u001b[0m\n\u001b[1;32m    614\u001b[0m \u001b[0;34m\u001b[0m\u001b[0m\n",
      "\u001b[0;32m~/env/lib/python3.5/site-packages/scapy/sendrecv.py\u001b[0m in \u001b[0;36msrp\u001b[0;34m(x, promisc, iface, iface_hint, filter, nofilter, type, *args, **kargs)\u001b[0m\n\u001b[1;32m    497\u001b[0m     \u001b[0;32mif\u001b[0m \u001b[0miface\u001b[0m \u001b[0;32mis\u001b[0m \u001b[0;32mNone\u001b[0m \u001b[0;32mand\u001b[0m \u001b[0miface_hint\u001b[0m \u001b[0;32mis\u001b[0m \u001b[0;32mnot\u001b[0m \u001b[0;32mNone\u001b[0m\u001b[0;34m:\u001b[0m\u001b[0;34m\u001b[0m\u001b[0m\n\u001b[1;32m    498\u001b[0m         \u001b[0miface\u001b[0m \u001b[0;34m=\u001b[0m \u001b[0mconf\u001b[0m\u001b[0;34m.\u001b[0m\u001b[0mroute\u001b[0m\u001b[0;34m.\u001b[0m\u001b[0mroute\u001b[0m\u001b[0;34m(\u001b[0m\u001b[0miface_hint\u001b[0m\u001b[0;34m)\u001b[0m\u001b[0;34m[\u001b[0m\u001b[0;36m0\u001b[0m\u001b[0;34m]\u001b[0m\u001b[0;34m\u001b[0m\u001b[0m\n\u001b[0;32m--> 499\u001b[0;31m     \u001b[0ms\u001b[0m \u001b[0;34m=\u001b[0m \u001b[0mconf\u001b[0m\u001b[0;34m.\u001b[0m\u001b[0mL2socket\u001b[0m\u001b[0;34m(\u001b[0m\u001b[0mpromisc\u001b[0m\u001b[0;34m=\u001b[0m\u001b[0mpromisc\u001b[0m\u001b[0;34m,\u001b[0m \u001b[0miface\u001b[0m\u001b[0;34m=\u001b[0m\u001b[0miface\u001b[0m\u001b[0;34m,\u001b[0m \u001b[0mfilter\u001b[0m\u001b[0;34m=\u001b[0m\u001b[0mfilter\u001b[0m\u001b[0;34m,\u001b[0m \u001b[0mnofilter\u001b[0m\u001b[0;34m=\u001b[0m\u001b[0mnofilter\u001b[0m\u001b[0;34m,\u001b[0m \u001b[0mtype\u001b[0m\u001b[0;34m=\u001b[0m\u001b[0mtype\u001b[0m\u001b[0;34m)\u001b[0m  \u001b[0;31m# noqa: E501\u001b[0m\u001b[0;34m\u001b[0m\u001b[0m\n\u001b[0m\u001b[1;32m    500\u001b[0m     \u001b[0mresult\u001b[0m \u001b[0;34m=\u001b[0m \u001b[0msndrcv\u001b[0m\u001b[0;34m(\u001b[0m\u001b[0ms\u001b[0m\u001b[0;34m,\u001b[0m \u001b[0mx\u001b[0m\u001b[0;34m,\u001b[0m \u001b[0;34m*\u001b[0m\u001b[0margs\u001b[0m\u001b[0;34m,\u001b[0m \u001b[0;34m**\u001b[0m\u001b[0mkargs\u001b[0m\u001b[0;34m)\u001b[0m\u001b[0;34m\u001b[0m\u001b[0m\n\u001b[1;32m    501\u001b[0m     \u001b[0ms\u001b[0m\u001b[0;34m.\u001b[0m\u001b[0mclose\u001b[0m\u001b[0;34m(\u001b[0m\u001b[0;34m)\u001b[0m\u001b[0;34m\u001b[0m\u001b[0m\n",
      "\u001b[0;32m~/env/lib/python3.5/site-packages/scapy/arch/linux.py\u001b[0m in \u001b[0;36m__init__\u001b[0;34m(self, iface, type, promisc, filter, nofilter, monitor)\u001b[0m\n\u001b[1;32m    443\u001b[0m             \u001b[0;32mif\u001b[0m \u001b[0;32mnot\u001b[0m \u001b[0mset_iface_monitor\u001b[0m\u001b[0;34m(\u001b[0m\u001b[0miface\u001b[0m\u001b[0;34m,\u001b[0m \u001b[0mmonitor\u001b[0m\u001b[0;34m)\u001b[0m\u001b[0;34m:\u001b[0m\u001b[0;34m\u001b[0m\u001b[0m\n\u001b[1;32m    444\u001b[0m                 \u001b[0mwarning\u001b[0m\u001b[0;34m(\u001b[0m\u001b[0;34m\"Could not change interface mode !\"\u001b[0m\u001b[0;34m)\u001b[0m\u001b[0;34m\u001b[0m\u001b[0m\n\u001b[0;32m--> 445\u001b[0;31m         \u001b[0mself\u001b[0m\u001b[0;34m.\u001b[0m\u001b[0mins\u001b[0m \u001b[0;34m=\u001b[0m \u001b[0msocket\u001b[0m\u001b[0;34m.\u001b[0m\u001b[0msocket\u001b[0m\u001b[0;34m(\u001b[0m\u001b[0msocket\u001b[0m\u001b[0;34m.\u001b[0m\u001b[0mAF_PACKET\u001b[0m\u001b[0;34m,\u001b[0m \u001b[0msocket\u001b[0m\u001b[0;34m.\u001b[0m\u001b[0mSOCK_RAW\u001b[0m\u001b[0;34m,\u001b[0m \u001b[0msocket\u001b[0m\u001b[0;34m.\u001b[0m\u001b[0mhtons\u001b[0m\u001b[0;34m(\u001b[0m\u001b[0mtype\u001b[0m\u001b[0;34m)\u001b[0m\u001b[0;34m)\u001b[0m  \u001b[0;31m# noqa: E501\u001b[0m\u001b[0;34m\u001b[0m\u001b[0m\n\u001b[0m\u001b[1;32m    446\u001b[0m         \u001b[0mself\u001b[0m\u001b[0;34m.\u001b[0m\u001b[0mins\u001b[0m\u001b[0;34m.\u001b[0m\u001b[0msetsockopt\u001b[0m\u001b[0;34m(\u001b[0m\u001b[0msocket\u001b[0m\u001b[0;34m.\u001b[0m\u001b[0mSOL_SOCKET\u001b[0m\u001b[0;34m,\u001b[0m \u001b[0msocket\u001b[0m\u001b[0;34m.\u001b[0m\u001b[0mSO_RCVBUF\u001b[0m\u001b[0;34m,\u001b[0m \u001b[0;36m0\u001b[0m\u001b[0;34m)\u001b[0m\u001b[0;34m\u001b[0m\u001b[0m\n\u001b[1;32m    447\u001b[0m         \u001b[0;32mif\u001b[0m \u001b[0;32mnot\u001b[0m \u001b[0mnofilter\u001b[0m\u001b[0;34m:\u001b[0m\u001b[0;34m\u001b[0m\u001b[0m\n",
      "\u001b[0;32m/usr/lib/python3.5/socket.py\u001b[0m in \u001b[0;36m__init__\u001b[0;34m(self, family, type, proto, fileno)\u001b[0m\n\u001b[1;32m    132\u001b[0m         \u001b[0;31m# constructor of _socket.socket converts the given argument to an\u001b[0m\u001b[0;34m\u001b[0m\u001b[0;34m\u001b[0m\u001b[0m\n\u001b[1;32m    133\u001b[0m         \u001b[0;31m# integer automatically.\u001b[0m\u001b[0;34m\u001b[0m\u001b[0;34m\u001b[0m\u001b[0m\n\u001b[0;32m--> 134\u001b[0;31m         \u001b[0m_socket\u001b[0m\u001b[0;34m.\u001b[0m\u001b[0msocket\u001b[0m\u001b[0;34m.\u001b[0m\u001b[0m__init__\u001b[0m\u001b[0;34m(\u001b[0m\u001b[0mself\u001b[0m\u001b[0;34m,\u001b[0m \u001b[0mfamily\u001b[0m\u001b[0;34m,\u001b[0m \u001b[0mtype\u001b[0m\u001b[0;34m,\u001b[0m \u001b[0mproto\u001b[0m\u001b[0;34m,\u001b[0m \u001b[0mfileno\u001b[0m\u001b[0;34m)\u001b[0m\u001b[0;34m\u001b[0m\u001b[0m\n\u001b[0m\u001b[1;32m    135\u001b[0m         \u001b[0mself\u001b[0m\u001b[0;34m.\u001b[0m\u001b[0m_io_refs\u001b[0m \u001b[0;34m=\u001b[0m \u001b[0;36m0\u001b[0m\u001b[0;34m\u001b[0m\u001b[0m\n\u001b[1;32m    136\u001b[0m         \u001b[0mself\u001b[0m\u001b[0;34m.\u001b[0m\u001b[0m_closed\u001b[0m \u001b[0;34m=\u001b[0m \u001b[0;32mFalse\u001b[0m\u001b[0;34m\u001b[0m\u001b[0m\n",
      "\u001b[0;31mPermissionError\u001b[0m: [Errno 1] Operation not permitted"
     ]
    }
   ],
   "source": [
    "from scapy.all import *\n",
    "\n",
    "ans,unans = arping(\"192.168.7.131\")\n",
    "for s,r in ans:\n",
    "\n",
    "    print(\"{} {}\".format(r[Ether].src,s[ARP].pdst))"
   ]
  },
  {
   "cell_type": "code",
   "execution_count": 23,
   "metadata": {},
   "outputs": [
    {
     "ename": "CalledProcessError",
     "evalue": "Command '['arp', '-lan']' returned non-zero exit status 4",
     "output_type": "error",
     "traceback": [
      "\u001b[0;31m---------------------------------------------------------------------------\u001b[0m",
      "\u001b[0;31mCalledProcessError\u001b[0m                        Traceback (most recent call last)",
      "\u001b[0;32m<ipython-input-23-e7f15a184277>\u001b[0m in \u001b[0;36m<module>\u001b[0;34m\u001b[0m\n\u001b[1;32m      1\u001b[0m \u001b[0;32mimport\u001b[0m \u001b[0mre\u001b[0m\u001b[0;34m\u001b[0m\u001b[0m\n\u001b[1;32m      2\u001b[0m \u001b[0;32mimport\u001b[0m \u001b[0msubprocess\u001b[0m\u001b[0;34m\u001b[0m\u001b[0m\n\u001b[0;32m----> 3\u001b[0;31m \u001b[0marp_out\u001b[0m \u001b[0;34m=\u001b[0m\u001b[0msubprocess\u001b[0m\u001b[0;34m.\u001b[0m\u001b[0mcheck_output\u001b[0m\u001b[0;34m(\u001b[0m\u001b[0;34m[\u001b[0m\u001b[0;34m'arp'\u001b[0m\u001b[0;34m,\u001b[0m\u001b[0;34m'-lan'\u001b[0m\u001b[0;34m]\u001b[0m\u001b[0;34m)\u001b[0m\u001b[0;34m\u001b[0m\u001b[0m\n\u001b[0m\u001b[1;32m      4\u001b[0m \u001b[0;34m\u001b[0m\u001b[0m\n\u001b[1;32m      5\u001b[0m \u001b[0mre\u001b[0m\u001b[0;34m.\u001b[0m\u001b[0mfindall\u001b[0m\u001b[0;34m(\u001b[0m\u001b[0;34mr\"((\\w{2,2}\\:{0,1}){6})\"\u001b[0m\u001b[0;34m,\u001b[0m\u001b[0marp_out\u001b[0m\u001b[0;34m)\u001b[0m\u001b[0;34m\u001b[0m\u001b[0m\n",
      "\u001b[0;32m/usr/lib/python3.5/subprocess.py\u001b[0m in \u001b[0;36mcheck_output\u001b[0;34m(timeout, *popenargs, **kwargs)\u001b[0m\n\u001b[1;32m    624\u001b[0m \u001b[0;34m\u001b[0m\u001b[0m\n\u001b[1;32m    625\u001b[0m     return run(*popenargs, stdout=PIPE, timeout=timeout, check=True,\n\u001b[0;32m--> 626\u001b[0;31m                **kwargs).stdout\n\u001b[0m\u001b[1;32m    627\u001b[0m \u001b[0;34m\u001b[0m\u001b[0m\n\u001b[1;32m    628\u001b[0m \u001b[0;34m\u001b[0m\u001b[0m\n",
      "\u001b[0;32m/usr/lib/python3.5/subprocess.py\u001b[0m in \u001b[0;36mrun\u001b[0;34m(input, timeout, check, *popenargs, **kwargs)\u001b[0m\n\u001b[1;32m    706\u001b[0m         \u001b[0;32mif\u001b[0m \u001b[0mcheck\u001b[0m \u001b[0;32mand\u001b[0m \u001b[0mretcode\u001b[0m\u001b[0;34m:\u001b[0m\u001b[0;34m\u001b[0m\u001b[0m\n\u001b[1;32m    707\u001b[0m             raise CalledProcessError(retcode, process.args,\n\u001b[0;32m--> 708\u001b[0;31m                                      output=stdout, stderr=stderr)\n\u001b[0m\u001b[1;32m    709\u001b[0m     \u001b[0;32mreturn\u001b[0m \u001b[0mCompletedProcess\u001b[0m\u001b[0;34m(\u001b[0m\u001b[0mprocess\u001b[0m\u001b[0;34m.\u001b[0m\u001b[0margs\u001b[0m\u001b[0;34m,\u001b[0m \u001b[0mretcode\u001b[0m\u001b[0;34m,\u001b[0m \u001b[0mstdout\u001b[0m\u001b[0;34m,\u001b[0m \u001b[0mstderr\u001b[0m\u001b[0;34m)\u001b[0m\u001b[0;34m\u001b[0m\u001b[0m\n\u001b[1;32m    710\u001b[0m \u001b[0;34m\u001b[0m\u001b[0m\n",
      "\u001b[0;31mCalledProcessError\u001b[0m: Command '['arp', '-lan']' returned non-zero exit status 4"
     ]
    }
   ],
   "source": [
    "import re\n",
    "import subprocess\n",
    "arp_out =subprocess.check_output(['arp','-lan'])\n",
    "\n",
    "re.findall(r\"((\\w{2,2}\\:{0,1}){6})\",arp_out)"
   ]
  },
  {
   "cell_type": "code",
   "execution_count": 29,
   "metadata": {},
   "outputs": [
    {
     "name": "stdout",
     "output_type": "stream",
     "text": [
      "94-C6-91-31-C7-5C\n"
     ]
    }
   ],
   "source": [
    "import uuid\n",
    "\n",
    "\n",
    "def get_mac():\n",
    "    mac_num = hex(uuid.getnode()).replace('0x', '').upper()\n",
    "    mac = '-'.join(mac_num[i: i + 2] for i in range(0, 11, 2))\n",
    "    return mac\n",
    "\n",
    "\n",
    "print (get_mac())"
   ]
  },
  {
   "cell_type": "code",
   "execution_count": 32,
   "metadata": {},
   "outputs": [],
   "source": [
    "import subprocess\n",
    "import sys\n",
    "remotehost=\"192.168.7.131\"\n",
    "cmd=\"arp -a\"\n",
    "p=subprocess.Popen(cmd, shell=True, stdout=subprocess.PIPE)\n",
    "output, errors = p.communicate()\n",
    "\n",
    "if output is not None :\n",
    "    output = output.decode('ascii')\n",
    "    if sys.platform in ['linux','linux2']:\n",
    "        for i in output.split(\"\\n\"):\n",
    "            if remotehost in i:\n",
    "                for j in i.split():\n",
    "                    if \":\" in j:\n",
    "                        print( \"%s--> %s\" % (remotehost,j))\n",
    "    elif sys.platform in ['win32']:\n",
    "        item =  output.split(\"\\n\")[-2]\n",
    "        if remotehost in item:\n",
    "            print(\"%s-->  %s\" %(remotehost, item.split()[1]))"
   ]
  },
  {
   "cell_type": "code",
   "execution_count": 49,
   "metadata": {},
   "outputs": [
    {
     "ename": "TypeError",
     "evalue": "a bytes-like object is required, not 'str'",
     "output_type": "error",
     "traceback": [
      "\u001b[0;31m---------------------------------------------------------------------------\u001b[0m",
      "\u001b[0;31mTypeError\u001b[0m                                 Traceback (most recent call last)",
      "\u001b[0;32m<ipython-input-49-92c101fd0b95>\u001b[0m in \u001b[0;36m<module>\u001b[0;34m\u001b[0m\n\u001b[1;32m      6\u001b[0m \u001b[0moutput\u001b[0m\u001b[0;34m,\u001b[0m\u001b[0merrors\u001b[0m \u001b[0;34m=\u001b[0m \u001b[0mp\u001b[0m\u001b[0;34m.\u001b[0m\u001b[0mcommunicate\u001b[0m\u001b[0;34m(\u001b[0m\u001b[0;34m)\u001b[0m\u001b[0;34m\u001b[0m\u001b[0m\n\u001b[1;32m      7\u001b[0m \u001b[0;32mif\u001b[0m \u001b[0moutput\u001b[0m \u001b[0;32mis\u001b[0m \u001b[0;32mnot\u001b[0m \u001b[0;32mNone\u001b[0m \u001b[0;34m:\u001b[0m\u001b[0;34m\u001b[0m\u001b[0m\n\u001b[0;32m----> 8\u001b[0;31m         \u001b[0;32mfor\u001b[0m \u001b[0mi\u001b[0m \u001b[0;32min\u001b[0m \u001b[0moutput\u001b[0m\u001b[0;34m.\u001b[0m\u001b[0msplit\u001b[0m\u001b[0;34m(\u001b[0m\u001b[0;34m\"\\n\"\u001b[0m\u001b[0;34m)\u001b[0m\u001b[0;34m:\u001b[0m\u001b[0;34m\u001b[0m\u001b[0m\n\u001b[0m\u001b[1;32m      9\u001b[0m             \u001b[0;32mif\u001b[0m \u001b[0mremotehost\u001b[0m \u001b[0;32min\u001b[0m \u001b[0mi\u001b[0m\u001b[0;34m:\u001b[0m\u001b[0;34m\u001b[0m\u001b[0m\n\u001b[1;32m     10\u001b[0m                 \u001b[0;32mfor\u001b[0m \u001b[0mj\u001b[0m \u001b[0;32min\u001b[0m \u001b[0mi\u001b[0m\u001b[0;34m.\u001b[0m\u001b[0msplit\u001b[0m\u001b[0;34m(\u001b[0m\u001b[0;34m)\u001b[0m\u001b[0;34m:\u001b[0m\u001b[0;34m\u001b[0m\u001b[0m\n",
      "\u001b[0;31mTypeError\u001b[0m: a bytes-like object is required, not 'str'"
     ]
    }
   ],
   "source": [
    "import subprocess\n",
    "import sys\n",
    "remotehost=\"192.168.7.131\"\n",
    "cmd=\"arp -a\"\n",
    "p=subprocess.Popen(cmd, shell=True, stdout=subprocess.PIPE)\n",
    "output,errors = p.communicate()\n",
    "if output is not None :\n",
    "        for i in output.split(\"\\n\"):\n",
    "            if remotehost in i:\n",
    "                for j in i.split():\n",
    "                    if \":\" in j:\n",
    "                        print (\"%s--> %s\" % (remotehost,j))\n",
    "   "
   ]
  },
  {
   "cell_type": "code",
   "execution_count": 47,
   "metadata": {},
   "outputs": [
    {
     "name": "stdout",
     "output_type": "stream",
     "text": [
      "Usage:\n",
      "\tpython defendARP.py -a <ip_addr_to_monitor>\n",
      "\tpython defendARP.py --address=<ip_addr_to_monitor>\n",
      "Help:\n",
      "\tpython defendARP.py --help\n"
     ]
    },
    {
     "ename": "SystemExit",
     "evalue": "",
     "output_type": "error",
     "traceback": [
      "An exception has occurred, use %tb to see the full traceback.\n",
      "\u001b[0;31mSystemExit\u001b[0m\n"
     ]
    },
    {
     "name": "stderr",
     "output_type": "stream",
     "text": [
      "/home/user/env/lib/python3.5/site-packages/IPython/core/interactiveshell.py:3299: UserWarning: To exit: use 'exit', 'quit', or Ctrl-D.\n",
      "  warn(\"To exit: use 'exit', 'quit', or Ctrl-D.\", stacklevel=1)\n"
     ]
    }
   ],
   "source": []
  },
  {
   "cell_type": "code",
   "execution_count": null,
   "metadata": {},
   "outputs": [],
   "source": [
    "#!/usr/bin/python\n",
    "import socket\n",
    "import os.path\n",
    "import sys\n",
    "import struct\n",
    "import fcntl\n",
    "import os\n",
    "efg = \"0\"\n",
    "wfg = \"0\"\n",
    "PATH1=\"/sys/class/net/enp1s0/carrier\"\n",
    "PATH2 = \"/sys/class/net/lo/carrier\"\n",
    "def getserial():\n",
    "    snm = \"192.168.7.131\"\n",
    "    try:\n",
    "        f = open('/proc/cpuinfo','r')\n",
    "        for line in f:\n",
    "            if line[0:6]=='Serial':\n",
    "                snm = line[10:26]\n",
    "        f.close()\n",
    "    except:\n",
    "        snm = \"ERROR00000000000\"\n",
    "    return snm\n",
    "                \n",
    "def getip(ifname): \n",
    "    try:   \n",
    "        s = socket.socket(socket.AF_INET, socket.SOCK_DGRAM)\n",
    "        return socket.inet_ntoa(fcntl.ioctl(s.fileno(),0x8915,struct.pack('256s',ifname[:15]))[20:24])\n",
    "    except:\n",
    "        return('ERROR')\n",
    "print (\"Serial Number = \"+getserial()) \n",
    "print (\"Host name = \"+socket.gethostname()) \n",
    "if os.path.isfile(PATH1) and os.access(PATH1, os.R_OK):\n",
    "    efg = open(PATH1).read()\n",
    "    print (\"eth0 MAC = \"+open('/sys/class/net/enp1s0/address').read())\n",
    "    if efg[0]==\"1\":\n",
    "        print (\"eth0 IP = \"+str(getip('eth0')) ) \n",
    "if os.path.isfile(PATH2) and os.access(PATH2, os.R_OK):\n",
    "    wfg = open(PATH2).read()\n",
    "    print (\"wlan0 MAC = \"+open('/sys/class/net/lo/address').read())\n",
    "    if wfg[0]==\"1\":\n",
    "        print (\"wlan0 IP = \"+str(getip('wlan0')))\n"
   ]
  },
  {
   "cell_type": "code",
   "execution_count": 2,
   "metadata": {},
   "outputs": [
    {
     "name": "stdout",
     "output_type": "stream",
     "text": [
      "Enter the Target Range: 192.168.7.1/131\n",
      "Enter the network interface: enp1s0\n"
     ]
    },
    {
     "ename": "PermissionError",
     "evalue": "[Errno 1] Operation not permitted",
     "output_type": "error",
     "traceback": [
      "\u001b[0;31m---------------------------------------------------------------------------\u001b[0m",
      "\u001b[0;31mPermissionError\u001b[0m                           Traceback (most recent call last)",
      "\u001b[0;32m<ipython-input-2-c9b432ccab96>\u001b[0m in \u001b[0;36m<module>\u001b[0;34m\u001b[0m\n\u001b[1;32m     21\u001b[0m \u001b[0;32mif\u001b[0m \u001b[0m__name__\u001b[0m \u001b[0;34m==\u001b[0m \u001b[0;34m\"__main__\"\u001b[0m\u001b[0;34m:\u001b[0m\u001b[0;34m\u001b[0m\u001b[0m\n\u001b[1;32m     22\u001b[0m     \u001b[0;32mtry\u001b[0m\u001b[0;34m:\u001b[0m\u001b[0;34m\u001b[0m\u001b[0m\n\u001b[0;32m---> 23\u001b[0;31m         \u001b[0mmain\u001b[0m\u001b[0;34m(\u001b[0m\u001b[0;34m)\u001b[0m\u001b[0;34m\u001b[0m\u001b[0m\n\u001b[0m\u001b[1;32m     24\u001b[0m     \u001b[0;32mexcept\u001b[0m \u001b[0mKeyboardInterrupt\u001b[0m\u001b[0;34m:\u001b[0m\u001b[0;34m\u001b[0m\u001b[0m\n\u001b[1;32m     25\u001b[0m         \u001b[0mprint\u001b[0m \u001b[0;34m(\u001b[0m\u001b[0;34m\"CTRL+C pressed. Exiting. \"\u001b[0m\u001b[0;34m)\u001b[0m\u001b[0;34m\u001b[0m\u001b[0m\n",
      "\u001b[0;32m<ipython-input-2-c9b432ccab96>\u001b[0m in \u001b[0;36mmain\u001b[0;34m()\u001b[0m\n\u001b[1;32m     14\u001b[0m     \u001b[0;32mfor\u001b[0m \u001b[0mip\u001b[0m \u001b[0;32min\u001b[0m \u001b[0mip_addresses\u001b[0m\u001b[0;34m:\u001b[0m\u001b[0;34m\u001b[0m\u001b[0m\n\u001b[1;32m     15\u001b[0m         \u001b[0m_pkt\u001b[0m \u001b[0;34m=\u001b[0m \u001b[0mEther\u001b[0m\u001b[0;34m(\u001b[0m\u001b[0mdst\u001b[0m\u001b[0;34m=\u001b[0m\u001b[0;34m\"ff:ff:ff:ff:ff:ff\"\u001b[0m\u001b[0;34m)\u001b[0m \u001b[0;34m/\u001b[0m \u001b[0mARP\u001b[0m\u001b[0;34m(\u001b[0m\u001b[0mpdst\u001b[0m\u001b[0;34m=\u001b[0m\u001b[0mip\u001b[0m\u001b[0;34m)\u001b[0m\u001b[0;34m\u001b[0m\u001b[0m\n\u001b[0;32m---> 16\u001b[0;31m         \u001b[0mans\u001b[0m\u001b[0;34m,\u001b[0m \u001b[0munans\u001b[0m \u001b[0;34m=\u001b[0m \u001b[0msrp\u001b[0m\u001b[0;34m(\u001b[0m \u001b[0m_pkt\u001b[0m\u001b[0;34m,\u001b[0m \u001b[0miface\u001b[0m\u001b[0;34m=\u001b[0m\u001b[0m_interface\u001b[0m\u001b[0;34m,\u001b[0m \u001b[0mtimeout\u001b[0m\u001b[0;34m=\u001b[0m\u001b[0;36m0.1\u001b[0m\u001b[0;34m,\u001b[0m \u001b[0mverbose\u001b[0m\u001b[0;34m=\u001b[0m\u001b[0;32mFalse\u001b[0m\u001b[0;34m)\u001b[0m\u001b[0;34m\u001b[0m\u001b[0m\n\u001b[0m\u001b[1;32m     17\u001b[0m         \u001b[0;32mfor\u001b[0m \u001b[0msnt\u001b[0m\u001b[0;34m,\u001b[0m \u001b[0mrecv\u001b[0m \u001b[0;32min\u001b[0m \u001b[0mans\u001b[0m\u001b[0;34m:\u001b[0m\u001b[0;34m\u001b[0m\u001b[0m\n\u001b[1;32m     18\u001b[0m             \u001b[0;32mif\u001b[0m \u001b[0mrecv\u001b[0m\u001b[0;34m:\u001b[0m\u001b[0;34m\u001b[0m\u001b[0m\n",
      "\u001b[0;32m~/env/lib/python3.5/site-packages/scapy/sendrecv.py\u001b[0m in \u001b[0;36msrp\u001b[0;34m(x, promisc, iface, iface_hint, filter, nofilter, type, *args, **kargs)\u001b[0m\n\u001b[1;32m    497\u001b[0m     \u001b[0;32mif\u001b[0m \u001b[0miface\u001b[0m \u001b[0;32mis\u001b[0m \u001b[0;32mNone\u001b[0m \u001b[0;32mand\u001b[0m \u001b[0miface_hint\u001b[0m \u001b[0;32mis\u001b[0m \u001b[0;32mnot\u001b[0m \u001b[0;32mNone\u001b[0m\u001b[0;34m:\u001b[0m\u001b[0;34m\u001b[0m\u001b[0m\n\u001b[1;32m    498\u001b[0m         \u001b[0miface\u001b[0m \u001b[0;34m=\u001b[0m \u001b[0mconf\u001b[0m\u001b[0;34m.\u001b[0m\u001b[0mroute\u001b[0m\u001b[0;34m.\u001b[0m\u001b[0mroute\u001b[0m\u001b[0;34m(\u001b[0m\u001b[0miface_hint\u001b[0m\u001b[0;34m)\u001b[0m\u001b[0;34m[\u001b[0m\u001b[0;36m0\u001b[0m\u001b[0;34m]\u001b[0m\u001b[0;34m\u001b[0m\u001b[0m\n\u001b[0;32m--> 499\u001b[0;31m     \u001b[0ms\u001b[0m \u001b[0;34m=\u001b[0m \u001b[0mconf\u001b[0m\u001b[0;34m.\u001b[0m\u001b[0mL2socket\u001b[0m\u001b[0;34m(\u001b[0m\u001b[0mpromisc\u001b[0m\u001b[0;34m=\u001b[0m\u001b[0mpromisc\u001b[0m\u001b[0;34m,\u001b[0m \u001b[0miface\u001b[0m\u001b[0;34m=\u001b[0m\u001b[0miface\u001b[0m\u001b[0;34m,\u001b[0m \u001b[0mfilter\u001b[0m\u001b[0;34m=\u001b[0m\u001b[0mfilter\u001b[0m\u001b[0;34m,\u001b[0m \u001b[0mnofilter\u001b[0m\u001b[0;34m=\u001b[0m\u001b[0mnofilter\u001b[0m\u001b[0;34m,\u001b[0m \u001b[0mtype\u001b[0m\u001b[0;34m=\u001b[0m\u001b[0mtype\u001b[0m\u001b[0;34m)\u001b[0m  \u001b[0;31m# noqa: E501\u001b[0m\u001b[0;34m\u001b[0m\u001b[0m\n\u001b[0m\u001b[1;32m    500\u001b[0m     \u001b[0mresult\u001b[0m \u001b[0;34m=\u001b[0m \u001b[0msndrcv\u001b[0m\u001b[0;34m(\u001b[0m\u001b[0ms\u001b[0m\u001b[0;34m,\u001b[0m \u001b[0mx\u001b[0m\u001b[0;34m,\u001b[0m \u001b[0;34m*\u001b[0m\u001b[0margs\u001b[0m\u001b[0;34m,\u001b[0m \u001b[0;34m**\u001b[0m\u001b[0mkargs\u001b[0m\u001b[0;34m)\u001b[0m\u001b[0;34m\u001b[0m\u001b[0m\n\u001b[1;32m    501\u001b[0m     \u001b[0ms\u001b[0m\u001b[0;34m.\u001b[0m\u001b[0mclose\u001b[0m\u001b[0;34m(\u001b[0m\u001b[0;34m)\u001b[0m\u001b[0;34m\u001b[0m\u001b[0m\n",
      "\u001b[0;32m~/env/lib/python3.5/site-packages/scapy/arch/linux.py\u001b[0m in \u001b[0;36m__init__\u001b[0;34m(self, iface, type, promisc, filter, nofilter, monitor)\u001b[0m\n\u001b[1;32m    443\u001b[0m             \u001b[0;32mif\u001b[0m \u001b[0;32mnot\u001b[0m \u001b[0mset_iface_monitor\u001b[0m\u001b[0;34m(\u001b[0m\u001b[0miface\u001b[0m\u001b[0;34m,\u001b[0m \u001b[0mmonitor\u001b[0m\u001b[0;34m)\u001b[0m\u001b[0;34m:\u001b[0m\u001b[0;34m\u001b[0m\u001b[0m\n\u001b[1;32m    444\u001b[0m                 \u001b[0mwarning\u001b[0m\u001b[0;34m(\u001b[0m\u001b[0;34m\"Could not change interface mode !\"\u001b[0m\u001b[0;34m)\u001b[0m\u001b[0;34m\u001b[0m\u001b[0m\n\u001b[0;32m--> 445\u001b[0;31m         \u001b[0mself\u001b[0m\u001b[0;34m.\u001b[0m\u001b[0mins\u001b[0m \u001b[0;34m=\u001b[0m \u001b[0msocket\u001b[0m\u001b[0;34m.\u001b[0m\u001b[0msocket\u001b[0m\u001b[0;34m(\u001b[0m\u001b[0msocket\u001b[0m\u001b[0;34m.\u001b[0m\u001b[0mAF_PACKET\u001b[0m\u001b[0;34m,\u001b[0m \u001b[0msocket\u001b[0m\u001b[0;34m.\u001b[0m\u001b[0mSOCK_RAW\u001b[0m\u001b[0;34m,\u001b[0m \u001b[0msocket\u001b[0m\u001b[0;34m.\u001b[0m\u001b[0mhtons\u001b[0m\u001b[0;34m(\u001b[0m\u001b[0mtype\u001b[0m\u001b[0;34m)\u001b[0m\u001b[0;34m)\u001b[0m  \u001b[0;31m# noqa: E501\u001b[0m\u001b[0;34m\u001b[0m\u001b[0m\n\u001b[0m\u001b[1;32m    446\u001b[0m         \u001b[0mself\u001b[0m\u001b[0;34m.\u001b[0m\u001b[0mins\u001b[0m\u001b[0;34m.\u001b[0m\u001b[0msetsockopt\u001b[0m\u001b[0;34m(\u001b[0m\u001b[0msocket\u001b[0m\u001b[0;34m.\u001b[0m\u001b[0mSOL_SOCKET\u001b[0m\u001b[0;34m,\u001b[0m \u001b[0msocket\u001b[0m\u001b[0;34m.\u001b[0m\u001b[0mSO_RCVBUF\u001b[0m\u001b[0;34m,\u001b[0m \u001b[0;36m0\u001b[0m\u001b[0;34m)\u001b[0m\u001b[0;34m\u001b[0m\u001b[0m\n\u001b[1;32m    447\u001b[0m         \u001b[0;32mif\u001b[0m \u001b[0;32mnot\u001b[0m \u001b[0mnofilter\u001b[0m\u001b[0;34m:\u001b[0m\u001b[0;34m\u001b[0m\u001b[0m\n",
      "\u001b[0;32m/usr/lib/python3.5/socket.py\u001b[0m in \u001b[0;36m__init__\u001b[0;34m(self, family, type, proto, fileno)\u001b[0m\n\u001b[1;32m    132\u001b[0m         \u001b[0;31m# constructor of _socket.socket converts the given argument to an\u001b[0m\u001b[0;34m\u001b[0m\u001b[0;34m\u001b[0m\u001b[0m\n\u001b[1;32m    133\u001b[0m         \u001b[0;31m# integer automatically.\u001b[0m\u001b[0;34m\u001b[0m\u001b[0;34m\u001b[0m\u001b[0m\n\u001b[0;32m--> 134\u001b[0;31m         \u001b[0m_socket\u001b[0m\u001b[0;34m.\u001b[0m\u001b[0msocket\u001b[0m\u001b[0;34m.\u001b[0m\u001b[0m__init__\u001b[0m\u001b[0;34m(\u001b[0m\u001b[0mself\u001b[0m\u001b[0;34m,\u001b[0m \u001b[0mfamily\u001b[0m\u001b[0;34m,\u001b[0m \u001b[0mtype\u001b[0m\u001b[0;34m,\u001b[0m \u001b[0mproto\u001b[0m\u001b[0;34m,\u001b[0m \u001b[0mfileno\u001b[0m\u001b[0;34m)\u001b[0m\u001b[0;34m\u001b[0m\u001b[0m\n\u001b[0m\u001b[1;32m    135\u001b[0m         \u001b[0mself\u001b[0m\u001b[0;34m.\u001b[0m\u001b[0m_io_refs\u001b[0m \u001b[0;34m=\u001b[0m \u001b[0;36m0\u001b[0m\u001b[0;34m\u001b[0m\u001b[0m\n\u001b[1;32m    136\u001b[0m         \u001b[0mself\u001b[0m\u001b[0;34m.\u001b[0m\u001b[0m_closed\u001b[0m \u001b[0;34m=\u001b[0m \u001b[0;32mFalse\u001b[0m\u001b[0;34m\u001b[0m\u001b[0m\n",
      "\u001b[0;31mPermissionError\u001b[0m: [Errno 1] Operation not permitted"
     ]
    }
   ],
   "source": [
    "import sys\n",
    "from scapy.all import Ether, ARP, srp\n",
    "\n",
    "def main():\n",
    "    _range =input(\"Enter the Target Range: \")\n",
    "    _interface = input(\"Enter the network interface: \")\n",
    "    ip, ntBits = _range.split('/')\n",
    "    ip_addresses = []\n",
    "    st_bit = ip.split('.')[3:4][0]   #Since it's an IPv4\n",
    "    for n in range(1, int(ntBits)+1):\n",
    "        eval_ip = \".\".join( ip.split('.')[:-1] ) + '.' + str(n)\n",
    "        ip_addresses.append( eval_ip )\n",
    "\n",
    "    for ip in ip_addresses:\n",
    "        _pkt = Ether(dst=\"ff:ff:ff:ff:ff:ff\") / ARP(pdst=ip)\n",
    "        ans, unans = srp( _pkt, iface=_interface, timeout=0.1, verbose=False)\n",
    "        for snt, recv in ans:\n",
    "            if recv:\n",
    "                print (\"Host Alive: %s - %s\" % (recv[ARP].psrc, recv[Ether].src))\n",
    "\n",
    "if __name__ == \"__main__\":\n",
    "    try:\n",
    "        main()\n",
    "    except KeyboardInterrupt:\n",
    "        print (\"CTRL+C pressed. Exiting. \")\n",
    "        sys.exit(0)"
   ]
  },
  {
   "cell_type": "code",
   "execution_count": null,
   "metadata": {},
   "outputs": [],
   "source": [
    " for i in range(2):\n",
    "            temperature_raw = subprocess.run(\n",
    "                [\"sensors\"], stdout=subprocess.PIPE\n",
    "            )\n",
    "temperature_raw = temperature_raw.stdout.decode().split(\"\\n\")"
   ]
  },
  {
   "cell_type": "code",
   "execution_count": null,
   "metadata": {},
   "outputs": [],
   "source": [
    "\n",
    "for i in range(2):\n",
    "            temperature_raw = subprocess.run(\n",
    "                [\"sensors\"], stdout=subprocess.PIPE\n",
    "            )\n",
    "temperature_raw = temperature_raw.stdout.decode().split(\"\\n\")"
   ]
  },
  {
   "cell_type": "code",
   "execution_count": null,
   "metadata": {},
   "outputs": [],
   "source": []
  },
  {
   "cell_type": "code",
   "execution_count": null,
   "metadata": {},
   "outputs": [],
   "source": [
    "#!/usr/bin/env python3\n",
    "\n",
    "# import the serious stuff\n",
    "import subprocess\n",
    "import os\n",
    "\n",
    "# the main function\n",
    "def main():\n",
    "    # run the command\n",
    "    arp_scan = subprocess.run(\n",
    "        [\"arp-scan\", \"-l\"],\n",
    "        stdout = subprocess.PIPE,\n",
    "        stderr = subprocess.PIPE\n",
    "    )\n",
    "\n",
    "    # get the output\n",
    "    arp_out = arp_scan.stdout.decode()\n",
    "\n",
    "    # split the output into a recursive list\n",
    "    arp_list = [x.split() for x in arp_out.split(\"\\n\")]\n",
    "\n",
    "    # the scanned MACs starts from third row\n",
    "    arp_list = arp_list[2:]\n",
    "\n",
    "    # print the stuff\n",
    "    for row in arp_list:\n",
    "        if len(row) != 0:\n",
    "            print(\"IP Address\\t:\", row[0])\n",
    "            print(\"MAC ID\\t\\t:\", row[1])\n",
    "            \n",
    "            print(\"Manufacturer\\t:\", row[2])\n",
    "            \n",
    "        else:\n",
    "            break\n",
    "\n",
    "\n",
    "# call the main function\n",
    "main()"
   ]
  },
  {
   "cell_type": "code",
   "execution_count": null,
   "metadata": {},
   "outputs": [],
   "source": [
    "import getpass\n",
    "import os\n",
    "import subprocess\n",
    "password = getpass.getpass()\n",
    "command = \"sudo ./arp_scan.py \" #can be any command but don't forget -S as it enables input from stdin\n",
    "os.system('echo %s | %s' % (password, command))\n"
   ]
  },
  {
   "cell_type": "code",
   "execution_count": 3,
   "metadata": {},
   "outputs": [
    {
     "name": "stdout",
     "output_type": "stream",
     "text": [
      "········\n"
     ]
    },
    {
     "data": {
      "text/plain": [
       "256"
      ]
     },
     "execution_count": 3,
     "metadata": {},
     "output_type": "execute_result"
    }
   ],
   "source": [
    "import getpass\n",
    "import os\n",
    "password = getpass.getpass()\n",
    "command = \"sudo -S arp_scan.py\" #can be any command but don't forget -S as it enables input from stdin\n",
    "os.system('echo %s | %s' % (password, command))"
   ]
  },
  {
   "cell_type": "code",
   "execution_count": 2,
   "metadata": {},
   "outputs": [
    {
     "ename": "TypeError",
     "evalue": "a bytes-like object is required, not 'str'",
     "output_type": "error",
     "traceback": [
      "\u001b[0;31m---------------------------------------------------------------------------\u001b[0m",
      "\u001b[0;31mTypeError\u001b[0m                                 Traceback (most recent call last)",
      "\u001b[0;32m<ipython-input-2-0d33578b4994>\u001b[0m in \u001b[0;36m<module>\u001b[0;34m\u001b[0m\n\u001b[1;32m     17\u001b[0m \u001b[0;34m\u001b[0m\u001b[0m\n\u001b[1;32m     18\u001b[0m \u001b[0;32mtry\u001b[0m\u001b[0;34m:\u001b[0m\u001b[0;34m\u001b[0m\u001b[0m\n\u001b[0;32m---> 19\u001b[0;31m     \u001b[0marp\u001b[0m \u001b[0;34m=\u001b[0m \u001b[0;34m[\u001b[0m\u001b[0mx\u001b[0m \u001b[0;32mfor\u001b[0m \u001b[0mx\u001b[0m \u001b[0;32min\u001b[0m \u001b[0mout\u001b[0m\u001b[0;34m.\u001b[0m\u001b[0msplit\u001b[0m\u001b[0;34m(\u001b[0m\u001b[0;34m'\\n'\u001b[0m\u001b[0;34m)\u001b[0m \u001b[0;32mif\u001b[0m \u001b[0mip\u001b[0m \u001b[0;32min\u001b[0m \u001b[0mx\u001b[0m\u001b[0;34m]\u001b[0m\u001b[0;34m[\u001b[0m\u001b[0;36m0\u001b[0m\u001b[0;34m]\u001b[0m\u001b[0;34m\u001b[0m\u001b[0m\n\u001b[0m\u001b[1;32m     20\u001b[0m \u001b[0;32mexcept\u001b[0m \u001b[0mIndexError\u001b[0m\u001b[0;34m:\u001b[0m\u001b[0;34m\u001b[0m\u001b[0m\n\u001b[1;32m     21\u001b[0m     \u001b[0msys\u001b[0m\u001b[0;34m.\u001b[0m\u001b[0mexit\u001b[0m\u001b[0;34m(\u001b[0m\u001b[0;36m1\u001b[0m\u001b[0;34m)\u001b[0m     \u001b[0;31m# no arp entry found\u001b[0m\u001b[0;34m\u001b[0m\u001b[0m\n",
      "\u001b[0;31mTypeError\u001b[0m: a bytes-like object is required, not 'str'"
     ]
    }
   ],
   "source": [
    "    import subprocess\n",
    "    import sys\n",
    "     \n",
    "    ip = sys.argv[1]\n",
    "        \n",
    "    # ping ip\n",
    "    p = subprocess.Popen(['ping', ip, '-c1'], stdout=subprocess.PIPE,\n",
    "            stderr=subprocess.PIPE)\n",
    "     \n",
    "    out, err = p.communicate()\n",
    "     \n",
    "    # arp list\n",
    "    p = subprocess.Popen(['arp', '-n'], stdout=subprocess.PIPE,\n",
    "            stderr=subprocess.PIPE)\n",
    "     \n",
    "    out, err = p.communicate()\n",
    "     \n",
    "    try:\n",
    "        arp = [x for x in out.split('\\n') if ip in x][0]\n",
    "    except IndexError:\n",
    "        sys.exit(1)     # no arp entry found\n",
    "    else:\n",
    "        # get the mac address from arp list\n",
    "        # bug: when the IP does not exists on the local network\n",
    "        # this will print out the interface name\n",
    "        print (' '.join(arp.split()).split()[2])\n",
    "     "
   ]
  },
  {
   "cell_type": "code",
   "execution_count": 10,
   "metadata": {},
   "outputs": [
    {
     "ename": "TypeError",
     "evalue": "Can't convert 'list' object to str implicitly",
     "output_type": "error",
     "traceback": [
      "\u001b[0;31m---------------------------------------------------------------------------\u001b[0m",
      "\u001b[0;31mTypeError\u001b[0m                                 Traceback (most recent call last)",
      "\u001b[0;32m<ipython-input-10-73725caff64e>\u001b[0m in \u001b[0;36m<module>\u001b[0;34m\u001b[0m\n\u001b[1;32m     14\u001b[0m \u001b[0;31m#Mac address to lookup vendor from\u001b[0m\u001b[0;34m\u001b[0m\u001b[0;34m\u001b[0m\u001b[0m\n\u001b[1;32m     15\u001b[0m \u001b[0;34m\u001b[0m\u001b[0m\n\u001b[0;32m---> 16\u001b[0;31m     \u001b[0mrequest\u001b[0m \u001b[0;34m=\u001b[0m \u001b[0murllib2\u001b[0m\u001b[0;34m.\u001b[0m\u001b[0mRequest\u001b[0m\u001b[0;34m(\u001b[0m\u001b[0murl\u001b[0m\u001b[0;34m+\u001b[0m\u001b[0mlst\u001b[0m\u001b[0;34m,\u001b[0m \u001b[0mheaders\u001b[0m\u001b[0;34m=\u001b[0m\u001b[0;34m{\u001b[0m\u001b[0;34m'User-Agent'\u001b[0m \u001b[0;34m:\u001b[0m \u001b[0;34m\"API Browser\"\u001b[0m\u001b[0;34m}\u001b[0m\u001b[0;34m)\u001b[0m\u001b[0;34m\u001b[0m\u001b[0m\n\u001b[0m\u001b[1;32m     17\u001b[0m     \u001b[0mresponse\u001b[0m \u001b[0;34m=\u001b[0m \u001b[0murllib2\u001b[0m\u001b[0;34m.\u001b[0m\u001b[0murlopen\u001b[0m\u001b[0;34m(\u001b[0m \u001b[0mrequest\u001b[0m \u001b[0;34m)\u001b[0m\u001b[0;34m\u001b[0m\u001b[0m\n\u001b[1;32m     18\u001b[0m \u001b[0;31m#Fix: json object must be str, not 'bytes'\u001b[0m\u001b[0;34m\u001b[0m\u001b[0;34m\u001b[0m\u001b[0m\n",
      "\u001b[0;31mTypeError\u001b[0m: Can't convert 'list' object to str implicitly"
     ]
    }
   ],
   "source": [
    "#!/python33/python\n",
    "#Python 3 Example of how to use https://macvendors.co to lookup vendor from mac address\n",
    "#print (\"Content-Type: text/html\\n\")\n",
    "\n",
    "import urllib.request as urllib2\n",
    "import json\n",
    "import codecs\n",
    "\n",
    "#API base url,you can also use https if you need\n",
    "url = \"http://macvendors.co/api/\"\n",
    "#Mac address to lookup vendor from\n",
    "mac_address = \"80:58:f8:2c:33:23\"\n",
    "\n",
    "request = urllib2.Request(url+mac_address, headers={'User-Agent' : \"API Browser\"}) \n",
    "response = urllib2.urlopen( request )\n",
    "#Fix: json object must be str, not 'bytes'\n",
    "reader = codecs.getreader(\"utf-8\")\n",
    "obj = json.load(reader(response))\n",
    "\n",
    "#Print company name\n",
    "\n",
    "print (obj['result']['company']+\"<br/>\");\n",
    "\n",
    "#print company address\n",
    "print (obj['result']['address']);\n"
   ]
  },
  {
   "cell_type": "code",
   "execution_count": 6,
   "metadata": {},
   "outputs": [
    {
     "ename": "NameError",
     "evalue": "name 'xbmc' is not defined",
     "output_type": "error",
     "traceback": [
      "\u001b[0;31m---------------------------------------------------------------------------\u001b[0m",
      "\u001b[0;31mNameError\u001b[0m                                 Traceback (most recent call last)",
      "\u001b[0;32m<ipython-input-6-c198266a5499>\u001b[0m in \u001b[0;36m<module>\u001b[0;34m\u001b[0m\n\u001b[0;32m----> 1\u001b[0;31m \u001b[0;32mif\u001b[0m \u001b[0mxbmc\u001b[0m\u001b[0;34m.\u001b[0m\u001b[0mgetInfoLabel\u001b[0m\u001b[0;34m(\u001b[0m\u001b[0;34m'Network.MacAddress'\u001b[0m\u001b[0;34m)\u001b[0m \u001b[0;34m!=\u001b[0m \u001b[0;32mNone\u001b[0m\u001b[0;34m:\u001b[0m\u001b[0;34m\u001b[0m\u001b[0m\n\u001b[0m\u001b[1;32m      2\u001b[0m     \u001b[0mmac_address\u001b[0m \u001b[0;34m=\u001b[0m \u001b[0mxbmc\u001b[0m\u001b[0;34m.\u001b[0m\u001b[0mgetInfoLabel\u001b[0m\u001b[0;34m(\u001b[0m\u001b[0;34m'Network.MacAddress'\u001b[0m\u001b[0;34m)\u001b[0m\u001b[0;34m\u001b[0m\u001b[0m\n\u001b[1;32m      3\u001b[0m \u001b[0;32melse\u001b[0m\u001b[0;34m:\u001b[0m\u001b[0;34m\u001b[0m\u001b[0m\n\u001b[1;32m      4\u001b[0m     \u001b[0mmac_address\u001b[0m \u001b[0;34m=\u001b[0m \u001b[0;32mNone\u001b[0m\u001b[0;34m\u001b[0m\u001b[0m\n\u001b[1;32m      5\u001b[0m \u001b[0;34m\u001b[0m\u001b[0m\n",
      "\u001b[0;31mNameError\u001b[0m: name 'xbmc' is not defined"
     ]
    }
   ],
   "source": [
    "\n",
    "    "
   ]
  },
  {
   "cell_type": "code",
   "execution_count": 3,
   "metadata": {},
   "outputs": [
    {
     "ename": "SyntaxError",
     "evalue": "invalid syntax (<ipython-input-3-dede2f8356e4>, line 3)",
     "output_type": "error",
     "traceback": [
      "\u001b[0;36m  File \u001b[0;32m\"<ipython-input-3-dede2f8356e4>\"\u001b[0;36m, line \u001b[0;32m3\u001b[0m\n\u001b[0;31m    if -n \"$@\" ;\u001b[0m\n\u001b[0m             ^\u001b[0m\n\u001b[0;31mSyntaxError\u001b[0m\u001b[0;31m:\u001b[0m invalid syntax\n"
     ]
    }
   ],
   "source": []
  },
  {
   "cell_type": "code",
   "execution_count": 7,
   "metadata": {},
   "outputs": [
    {
     "name": "stdout",
     "output_type": "stream",
     "text": [
      "88:53:2E:67:07:BE {\"result\":{\"company\":\"Intel Corporate\",\"mac_prefix\":\"88:53:2E\",\"address\":\"Lot 8, Jalan Hi-Tech 2\\/3,Kulim  Kedah  09000,MY\",\"start_hex\":\"88532E000000\",\"end_hex\":\"88532EFFFFFF\",\"country\":\"MY\",\"type\":\"MA-L\"}}\n",
      "FC:FB:FB:01:FA:21 {\"result\":{\"company\":\"Cisco Systems, Inc\",\"mac_prefix\":\"FC:FB:FB\",\"address\":\"80 West Tasman Drive,San Jose  CA  94568,US\",\"start_hex\":\"FCFBFB000000\",\"end_hex\":\"FCFBFBFFFFFF\",\"country\":\"US\",\"type\":\"MA-L\"}}\n",
      "D4:F4:6F:C9:EF:8D {\"result\":{\"company\":\"Apple, Inc.\",\"mac_prefix\":\"D4:F4:6F\",\"address\":\"1 Infinite Loop,Cupertino  CA  95014,US\",\"start_hex\":\"D4F46F000000\",\"end_hex\":\"D4F46FFFFFFF\",\"country\":\"US\",\"type\":\"MA-L\"}}\n"
     ]
    }
   ],
   "source": [
    "import requests\n",
    "lst=['88:53:2E:67:07:BE', 'FC:FB:FB:01:FA:21',\n",
    "        'D4:F4:6F:C9:EF:8D']\n",
    "for addr in lst:\n",
    "    vendor = requests.get('http://macvendors.co/api/' + addr).text\n",
    "    print(addr, vendor)"
   ]
  },
  {
   "cell_type": "code",
   "execution_count": 34,
   "metadata": {},
   "outputs": [
    {
     "name": "stdout",
     "output_type": "stream",
     "text": [
      "\n",
      "\n",
      "Intel Corporate\n",
      "Lot 8, Jalan Hi-Tech 2/3,Kulim  Kedah  09000,MY\n",
      "\n",
      "\n",
      "Cisco Systems, Inc\n",
      "80 West Tasman Drive,San Jose  CA  94568,US\n",
      "\n",
      "\n",
      "Apple, Inc.\n",
      "1 Infinite Loop,Cupertino  CA  95014,US\n"
     ]
    }
   ],
   "source": [
    "import urllib.request as urllib2\n",
    "import json\n",
    "import codecs\n",
    "\n",
    "url = \"http://macvendors.co/api/\"\n",
    "lst=['88:53:2E:67:07:BE', 'FC:FB:FB:01:FA:21',\n",
    "        'D4:F4:6F:C9:EF:8D']\n",
    "for addr in lst:\n",
    "    request = urllib2.Request(url+addr, headers={'User-Agent' : \"API Browser\"}) \n",
    "    response = urllib2.urlopen( request )\n",
    "    reader = codecs.getreader(\"utf-8\")\n",
    "    obj = json.load(reader(response))\n",
    "    print (\"\\n\")\n",
    "    print (obj['result']['company']);\n",
    "   \n",
    "    #print company address\n",
    "    print (obj['result']['address']);\n"
   ]
  },
  {
   "cell_type": "code",
   "execution_count": 40,
   "metadata": {},
   "outputs": [
    {
     "ename": "AttributeError",
     "evalue": "module 'nmap' has no attribute 'PortScanner'",
     "output_type": "error",
     "traceback": [
      "\u001b[0;31m---------------------------------------------------------------------------\u001b[0m",
      "\u001b[0;31mAttributeError\u001b[0m                            Traceback (most recent call last)",
      "\u001b[0;32m<ipython-input-40-b3739d2e6afb>\u001b[0m in \u001b[0;36m<module>\u001b[0;34m\u001b[0m\n\u001b[1;32m      1\u001b[0m \u001b[0;32mimport\u001b[0m \u001b[0mnmap\u001b[0m\u001b[0;34m\u001b[0m\u001b[0m\n\u001b[0;32m----> 2\u001b[0;31m \u001b[0mnm\u001b[0m \u001b[0;34m=\u001b[0m \u001b[0mnmap\u001b[0m\u001b[0;34m.\u001b[0m\u001b[0mPortScanner\u001b[0m\u001b[0;34m(\u001b[0m\u001b[0;34m)\u001b[0m\u001b[0;34m\u001b[0m\u001b[0m\n\u001b[0m\u001b[1;32m      3\u001b[0m \u001b[0mnm\u001b[0m\u001b[0;34m.\u001b[0m\u001b[0mscan\u001b[0m\u001b[0;34m(\u001b[0m\u001b[0;34m'127.0.0.1/24 -sP'\u001b[0m\u001b[0;34m)\u001b[0m\u001b[0;34m\u001b[0m\u001b[0m\n\u001b[1;32m      4\u001b[0m \u001b[0;32mfor\u001b[0m \u001b[0mhost\u001b[0m \u001b[0;32min\u001b[0m \u001b[0mnm\u001b[0m\u001b[0;34m.\u001b[0m\u001b[0mall_hosts\u001b[0m\u001b[0;34m(\u001b[0m\u001b[0;34m)\u001b[0m\u001b[0;34m:\u001b[0m\u001b[0;34m\u001b[0m\u001b[0m\n\u001b[1;32m      5\u001b[0m     \u001b[0mprint\u001b[0m \u001b[0;34m(\u001b[0m\u001b[0mnm\u001b[0m\u001b[0;34m[\u001b[0m\u001b[0mhost\u001b[0m\u001b[0;34m]\u001b[0m\u001b[0;34m[\u001b[0m\u001b[0;34m'addresses'\u001b[0m\u001b[0;34m]\u001b[0m\u001b[0;34m)\u001b[0m\u001b[0;34m\u001b[0m\u001b[0m\n",
      "\u001b[0;31mAttributeError\u001b[0m: module 'nmap' has no attribute 'PortScanner'"
     ]
    }
   ],
   "source": [
    "import nmap \n",
    "nm = nmap.PortScanner() \n",
    "nm.scan('127.0.0.1/24 -sP') \n",
    "for host in nm.all_hosts(): \n",
    "    print (nm[host]['addresses'])"
   ]
  },
  {
   "cell_type": "code",
   "execution_count": 45,
   "metadata": {},
   "outputs": [
    {
     "ename": "AttributeError",
     "evalue": "module 'nmap' has no attribute 'PortScanner'",
     "output_type": "error",
     "traceback": [
      "\u001b[0;31m---------------------------------------------------------------------------\u001b[0m",
      "\u001b[0;31mAttributeError\u001b[0m                            Traceback (most recent call last)",
      "\u001b[0;32m<ipython-input-45-b3739d2e6afb>\u001b[0m in \u001b[0;36m<module>\u001b[0;34m\u001b[0m\n\u001b[1;32m      1\u001b[0m \u001b[0;32mimport\u001b[0m \u001b[0mnmap\u001b[0m\u001b[0;34m\u001b[0m\u001b[0m\n\u001b[0;32m----> 2\u001b[0;31m \u001b[0mnm\u001b[0m \u001b[0;34m=\u001b[0m \u001b[0mnmap\u001b[0m\u001b[0;34m.\u001b[0m\u001b[0mPortScanner\u001b[0m\u001b[0;34m(\u001b[0m\u001b[0;34m)\u001b[0m\u001b[0;34m\u001b[0m\u001b[0m\n\u001b[0m\u001b[1;32m      3\u001b[0m \u001b[0mnm\u001b[0m\u001b[0;34m.\u001b[0m\u001b[0mscan\u001b[0m\u001b[0;34m(\u001b[0m\u001b[0;34m'127.0.0.1/24 -sP'\u001b[0m\u001b[0;34m)\u001b[0m\u001b[0;34m\u001b[0m\u001b[0m\n\u001b[1;32m      4\u001b[0m \u001b[0;32mfor\u001b[0m \u001b[0mhost\u001b[0m \u001b[0;32min\u001b[0m \u001b[0mnm\u001b[0m\u001b[0;34m.\u001b[0m\u001b[0mall_hosts\u001b[0m\u001b[0;34m(\u001b[0m\u001b[0;34m)\u001b[0m\u001b[0;34m:\u001b[0m\u001b[0;34m\u001b[0m\u001b[0m\n\u001b[1;32m      5\u001b[0m     \u001b[0mprint\u001b[0m \u001b[0;34m(\u001b[0m\u001b[0mnm\u001b[0m\u001b[0;34m[\u001b[0m\u001b[0mhost\u001b[0m\u001b[0;34m]\u001b[0m\u001b[0;34m[\u001b[0m\u001b[0;34m'addresses'\u001b[0m\u001b[0;34m]\u001b[0m\u001b[0;34m)\u001b[0m\u001b[0;34m\u001b[0m\u001b[0m\n",
      "\u001b[0;31mAttributeError\u001b[0m: module 'nmap' has no attribute 'PortScanner'"
     ]
    }
   ],
   "source": [
    "import nmap \n",
    "nm = nmap.PortScanner() \n",
    "nm.scan('127.0.0.1/24 -sP') \n",
    "for host in nm.all_hosts(): \n",
    "    print (nm[host]['addresses'])"
   ]
  },
  {
   "cell_type": "code",
   "execution_count": 1,
   "metadata": {},
   "outputs": [
    {
     "ename": "AttributeError",
     "evalue": "module 'nmap' has no attribute 'PortScanner'",
     "output_type": "error",
     "traceback": [
      "\u001b[0;31m---------------------------------------------------------------------------\u001b[0m",
      "\u001b[0;31mAttributeError\u001b[0m                            Traceback (most recent call last)",
      "\u001b[0;32m<ipython-input-1-41a3b9ada2a5>\u001b[0m in \u001b[0;36m<module>\u001b[0;34m\u001b[0m\n\u001b[1;32m      1\u001b[0m \u001b[0;32mimport\u001b[0m \u001b[0mnmap\u001b[0m\u001b[0;34m\u001b[0m\u001b[0m\n\u001b[1;32m      2\u001b[0m \u001b[0;34m\u001b[0m\u001b[0m\n\u001b[0;32m----> 3\u001b[0;31m \u001b[0mnmap1\u001b[0m \u001b[0;34m=\u001b[0m \u001b[0mnmap\u001b[0m\u001b[0;34m.\u001b[0m\u001b[0mPortScanner\u001b[0m\u001b[0;34m(\u001b[0m\u001b[0;34m)\u001b[0m\u001b[0;34m\u001b[0m\u001b[0m\n\u001b[0m\u001b[1;32m      4\u001b[0m \u001b[0;34m\u001b[0m\u001b[0m\n\u001b[1;32m      5\u001b[0m \u001b[0ma\u001b[0m \u001b[0;34m=\u001b[0m \u001b[0mnmap1\u001b[0m\u001b[0;34m.\u001b[0m\u001b[0mnmap_version\u001b[0m\u001b[0;34m(\u001b[0m\u001b[0;34m)\u001b[0m\u001b[0;34m\u001b[0m\u001b[0m\n",
      "\u001b[0;31mAttributeError\u001b[0m: module 'nmap' has no attribute 'PortScanner'"
     ]
    }
   ],
   "source": [
    "import nmap\n",
    "\n",
    "nmap1 = nmap.PortScanner()\n",
    "\n",
    "a = nmap1.nmap_version()\n",
    "\n",
    "print(a)"
   ]
  },
  {
   "cell_type": "code",
   "execution_count": null,
   "metadata": {},
   "outputs": [],
   "source": [
    "sudo arp-scan -l | grep PHONEMACADDRESS"
   ]
  }
 ],
 "metadata": {
  "kernelspec": {
   "display_name": "Python 3",
   "language": "python",
   "name": "python3"
  },
  "language_info": {
   "codemirror_mode": {
    "name": "ipython",
    "version": 3
   },
   "file_extension": ".py",
   "mimetype": "text/x-python",
   "name": "python",
   "nbconvert_exporter": "python",
   "pygments_lexer": "ipython3",
   "version": "3.5.2"
  }
 },
 "nbformat": 4,
 "nbformat_minor": 2
}
