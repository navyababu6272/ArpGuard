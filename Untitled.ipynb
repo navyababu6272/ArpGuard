{
 "cells": [
  {
   "cell_type": "code",
   "execution_count": null,
   "metadata": {},
   "outputs": [],
   "source": [
    "#!/usr/bin/env python3\n",
    "\n",
    "# import the serious stuff\n",
    "import subprocess\n",
    "import os\n",
    "\n",
    "# the main function\n",
    "def main():\n",
    "    # run the command\n",
    "    arp_scan = subprocess.run(\n",
    "        [\"arp-scan\", \"-l\"],\n",
    "        stdout = subprocess.PIPE,\n",
    "        stderr = subprocess.PIPE\n",
    "    )\n",
    "\n",
    "    # get the output\n",
    "    arp_out = arp_scan.stdout.decode()\n",
    "\n",
    "    # split the output into a recursive list\n",
    "    arp_list = [x.split() for x in arp_out.split(\"\\n\")]\n",
    "\n",
    "    # the scanned MACs starts from third row\n",
    "    arp_list = arp_list[2:]\n",
    "\n",
    "    # print the stuff\n",
    "    for row in arp_list:\n",
    "        if len(row) != 0:\n",
    "            print(\"IP Address\\t:\", row[0])\n",
    "            print(\"MAC ID\\t\\t:\", row[1])\n",
    "            print(\"Manufacturer\\t:\", row[2])\n",
    "        else:\n",
    "            break\n",
    "\n",
    "\n",
    "# call the main function\n",
    "main()"
   ]
  }
 ],
 "metadata": {
  "kernelspec": {
   "display_name": "Python 3",
   "language": "python",
   "name": "python3"
  },
  "language_info": {
   "codemirror_mode": {
    "name": "ipython",
    "version": 3
   },
   "file_extension": ".py",
   "mimetype": "text/x-python",
   "name": "python",
   "nbconvert_exporter": "python",
   "pygments_lexer": "ipython3",
   "version": "3.5.2"
  }
 },
 "nbformat": 4,
 "nbformat_minor": 2
}
